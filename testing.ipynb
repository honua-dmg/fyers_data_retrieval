{
 "cells": [
  {
   "cell_type": "code",
   "execution_count": 1,
   "metadata": {},
   "outputs": [],
   "source": [
    "TOTPtoken='J7FQH2SSSFM73FCKJBPADBZ7OFB6BNES'\n",
    "key='7845'\n",
    "phonenumber='7013036199'\n",
    "client_id1 = \"7QYRMB1P75-100\"\n",
    "secret_key1 = \"ZOO1C73JLJ\"\n",
    "redirect_uri1 = \"https://www.google.com/\"\n",
    "\n",
    "client_id2 = \"ED5OZI8YV6-100\"\n",
    "secret_key2 = \"WDJIPBAUV0\"\n",
    "redirect_uri2 = 'https://www.google.com/'"
   ]
  },
  {
   "cell_type": "code",
   "execution_count": 2,
   "metadata": {},
   "outputs": [],
   "source": [
    "from accesstoken import Initial\n",
    "from data import Depth,Symbol"
   ]
  },
  {
   "cell_type": "code",
   "execution_count": 3,
   "metadata": {},
   "outputs": [
    {
     "name": "stdout",
     "output_type": "stream",
     "text": [
      "no neeed to validate :)\n",
      "200\n",
      "********************************************************************************\n",
      "success\n",
      "no neeed to validate :)\n",
      "200\n",
      "********************************************************************************\n",
      "success\n"
     ]
    }
   ],
   "source": [
    "symbol_access = Initial(client_id=client_id1,\n",
    "                        secret_key=secret_key1,\n",
    "                        redirect_uri=redirect_uri1,\n",
    "                        TOTPseckey=TOTPtoken,\n",
    "                        key=key,\n",
    "                        phoneno=phonenumber).get_access_token()\n",
    "depth_access = Initial(client_id=client_id2,\n",
    "                        secret_key=secret_key2,\n",
    "                        redirect_uri=redirect_uri2,\n",
    "                        TOTPseckey=TOTPtoken,\n",
    "                        key=key,\n",
    "                        phoneno=phonenumber).get_access_token()"
   ]
  },
  {
   "cell_type": "code",
   "execution_count": 34,
   "metadata": {},
   "outputs": [],
   "source": [
    "depth = Depth(access_token=symbol_access,stonks=['NSE:SBIN-EQ','BSE:SBIN-A','NSE:TATAMOTORS-EQ'])"
   ]
  },
  {
   "cell_type": "code",
   "execution_count": 35,
   "metadata": {},
   "outputs": [
    {
     "name": "stdout",
     "output_type": "stream",
     "text": [
      "Response: {'type': 'cn', 'code': 200, 'message': 'Authentication done', 's': 'ok'}\n",
      "connection opened\n"
     ]
    },
    {
     "name": "stdout",
     "output_type": "stream",
     "text": [
      "Response: {'type': 'ful', 'code': 200, 'message': 'Full Mode On', 's': 'ok'}\n"
     ]
    }
   ],
   "source": [
    "depth.connect()"
   ]
  },
  {
   "cell_type": "code",
   "execution_count": 30,
   "metadata": {},
   "outputs": [
    {
     "name": "stdout",
     "output_type": "stream",
     "text": [
      "Response: {'type': 'sub', 'code': 200, 'message': 'Subscribed', 's': 'ok'}\n",
      "Response: {'bid_price1': 850.55, 'bid_price2': 850.5, 'bid_price3': 850.45, 'bid_price4': 850.4, 'bid_price5': 850.35, 'ask_price1': 850.95, 'ask_price2': 851.0, 'ask_price3': 851.05, 'ask_price4': 851.1, 'ask_price5': 851.15, 'bid_size1': 450, 'bid_size2': 681, 'bid_size3': 449, 'bid_size4': 940, 'bid_size5': 854, 'ask_size1': 403, 'ask_size2': 1077, 'ask_size3': 981, 'ask_size4': 549, 'ask_size5': 1024, 'bid_order1': 4, 'bid_order2': 5, 'bid_order3': 4, 'bid_order4': 14, 'bid_order5': 9, 'ask_order1': 6, 'ask_order2': 13, 'ask_order3': 6, 'ask_order4': 10, 'ask_order5': 9, 'type': 'dp', 'symbol': 'NSE:SBIN-EQ'}\n",
      "Response: {'bid_price1': 850.55, 'bid_price2': 850.5, 'bid_price3': 850.45, 'bid_price4': 850.4, 'bid_price5': 850.35, 'ask_price1': 850.95, 'ask_price2': 851.0, 'ask_price3': 851.05, 'ask_price4': 851.1, 'ask_price5': 851.15, 'bid_size1': 323, 'bid_size2': 408, 'bid_size3': 522, 'bid_size4': 271, 'bid_size5': 360, 'ask_size1': 113, 'ask_size2': 196, 'ask_size3': 8, 'ask_size4': 117, 'ask_size5': 68, 'bid_order1': 4, 'bid_order2': 6, 'bid_order3': 5, 'bid_order4': 2, 'bid_order5': 6, 'ask_order1': 1, 'ask_order2': 2, 'ask_order3': 1, 'ask_order4': 1, 'ask_order5': 1, 'type': 'dp', 'symbol': 'BSE:SBIN-A'}\n",
      "Response: {'bid_price1': 999.0, 'bid_price2': 998.9, 'bid_price3': 998.85, 'bid_price4': 998.8, 'bid_price5': 998.75, 'ask_price1': 999.35, 'ask_price2': 999.4, 'ask_price3': 999.45, 'ask_price4': 999.5, 'ask_price5': 999.55, 'bid_size1': 98, 'bid_size2': 166, 'bid_size3': 328, 'bid_size4': 316, 'bid_size5': 465, 'ask_size1': 158, 'ask_size2': 92, 'ask_size3': 134, 'ask_size4': 273, 'ask_size5': 553, 'bid_order1': 1, 'bid_order2': 3, 'bid_order3': 7, 'bid_order4': 6, 'bid_order5': 9, 'ask_order1': 1, 'ask_order2': 4, 'ask_order3': 5, 'ask_order4': 6, 'ask_order5': 9, 'type': 'dp', 'symbol': 'NSE:TATAMOTORS-EQ'}\n",
      "Response: {'bid_price1': 850.6, 'bid_price2': 850.55, 'bid_price3': 850.5, 'bid_price4': 850.45, 'bid_price5': 850.4, 'ask_price1': 850.95, 'ask_price2': 851.0, 'ask_price3': 851.05, 'ask_price4': 851.1, 'ask_price5': 851.15, 'bid_size1': 5, 'bid_size2': 509, 'bid_size3': 766, 'bid_size4': 260, 'bid_size5': 924, 'ask_size1': 266, 'ask_size2': 1102, 'ask_size3': 981, 'ask_size4': 529, 'ask_size5': 1024, 'bid_order1': 1, 'bid_order2': 5, 'bid_order3': 9, 'bid_order4': 2, 'bid_order5': 13, 'ask_order1': 5, 'ask_order2': 14, 'ask_order3': 6, 'ask_order4': 10, 'ask_order5': 9, 'type': 'dp', 'symbol': 'NSE:SBIN-EQ'}\n",
      "Response: {'bid_price1': 850.65, 'bid_price2': 850.6, 'bid_price3': 850.55, 'bid_price4': 850.5, 'bid_price5': 850.45, 'ask_price1': 851.0, 'ask_price2': 851.1, 'ask_price3': 851.2, 'ask_price4': 851.25, 'ask_price5': 851.3, 'bid_size1': 530, 'bid_size2': 345, 'bid_size3': 603, 'bid_size4': 442, 'bid_size5': 701, 'ask_size1': 79, 'ask_size2': 117, 'ask_size3': 117, 'ask_size4': 310, 'ask_size5': 216, 'bid_order1': 3, 'bid_order2': 7, 'bid_order3': 7, 'bid_order4': 6, 'bid_order5': 7, 'ask_order1': 1, 'ask_order2': 1, 'ask_order3': 1, 'ask_order4': 3, 'ask_order5': 2, 'type': 'dp', 'symbol': 'BSE:SBIN-A'}\n",
      "Response: {'bid_price1': 999.0, 'bid_price2': 998.9, 'bid_price3': 998.85, 'bid_price4': 998.8, 'bid_price5': 998.75, 'ask_price1': 999.25, 'ask_price2': 999.35, 'ask_price3': 999.4, 'ask_price4': 999.45, 'ask_price5': 999.5, 'bid_size1': 85, 'bid_size2': 166, 'bid_size3': 328, 'bid_size4': 316, 'bid_size5': 465, 'ask_size1': 20, 'ask_size2': 153, 'ask_size3': 70, 'ask_size4': 619, 'ask_size5': 264, 'bid_order1': 1, 'bid_order2': 3, 'bid_order3': 7, 'bid_order4': 6, 'bid_order5': 9, 'ask_order1': 1, 'ask_order2': 1, 'ask_order3': 3, 'ask_order4': 8, 'ask_order5': 6, 'type': 'dp', 'symbol': 'NSE:TATAMOTORS-EQ'}\n",
      "Response: {'bid_price1': 850.8, 'bid_price2': 850.75, 'bid_price3': 850.7, 'bid_price4': 850.65, 'bid_price5': 850.6, 'ask_price1': 851.0, 'ask_price2': 851.05, 'ask_price3': 851.1, 'ask_price4': 851.15, 'ask_price5': 851.2, 'bid_size1': 2, 'bid_size2': 163, 'bid_size3': 163, 'bid_size4': 939, 'bid_size5': 626, 'ask_size1': 256, 'ask_size2': 30, 'ask_size3': 435, 'ask_size4': 1036, 'ask_size5': 1371, 'bid_order1': 1, 'bid_order2': 1, 'bid_order3': 1, 'bid_order4': 3, 'bid_order5': 8, 'ask_order1': 3, 'ask_order2': 1, 'ask_order3': 7, 'ask_order4': 9, 'ask_order5': 15, 'type': 'dp', 'symbol': 'NSE:SBIN-EQ'}\n",
      "Response: {'bid_price1': 850.65, 'bid_price2': 850.6, 'bid_price3': 850.55, 'bid_price4': 850.5, 'bid_price5': 850.45, 'ask_price1': 851.1, 'ask_price2': 851.2, 'ask_price3': 851.25, 'ask_price4': 851.3, 'ask_price5': 851.35, 'bid_size1': 578, 'bid_size2': 396, 'bid_size3': 603, 'bid_size4': 530, 'bid_size5': 700, 'ask_size1': 117, 'ask_size2': 117, 'ask_size3': 310, 'ask_size4': 216, 'ask_size5': 455, 'bid_order1': 3, 'bid_order2': 9, 'bid_order3': 7, 'bid_order4': 7, 'bid_order5': 6, 'ask_order1': 1, 'ask_order2': 1, 'ask_order3': 3, 'ask_order4': 2, 'ask_order5': 3, 'type': 'dp', 'symbol': 'BSE:SBIN-A'}\n",
      "Response: {'bid_price1': 999.0, 'bid_price2': 998.9, 'bid_price3': 998.85, 'bid_price4': 998.8, 'bid_price5': 998.75, 'ask_price1': 999.25, 'ask_price2': 999.35, 'ask_price3': 999.4, 'ask_price4': 999.45, 'ask_price5': 999.5, 'bid_size1': 85, 'bid_size2': 63, 'bid_size3': 200, 'bid_size4': 329, 'bid_size5': 477, 'ask_size1': 25, 'ask_size2': 30, 'ask_size3': 176, 'ask_size4': 619, 'ask_size5': 289, 'bid_order1': 1, 'bid_order2': 2, 'bid_order3': 4, 'bid_order4': 7, 'bid_order5': 10, 'ask_order1': 2, 'ask_order2': 1, 'ask_order3': 4, 'ask_order4': 8, 'ask_order5': 7, 'type': 'dp', 'symbol': 'NSE:TATAMOTORS-EQ'}\n",
      "Response: {'bid_price1': 850.7, 'bid_price2': 850.65, 'bid_price3': 850.6, 'bid_price4': 850.55, 'bid_price5': 850.5, 'ask_price1': 851.0, 'ask_price2': 851.05, 'ask_price3': 851.1, 'ask_price4': 851.15, 'ask_price5': 851.2, 'bid_size1': 58, 'bid_size2': 972, 'bid_size3': 483, 'bid_size4': 348, 'bid_size5': 1141, 'ask_size1': 247, 'ask_size2': 139, 'ask_size3': 261, 'ask_size4': 1220, 'ask_size5': 1371, 'bid_order1': 1, 'bid_order2': 3, 'bid_order3': 5, 'bid_order4': 7, 'bid_order5': 7, 'ask_order1': 4, 'ask_order2': 2, 'ask_order3': 6, 'ask_order4': 11, 'ask_order5': 15, 'type': 'dp', 'symbol': 'NSE:SBIN-EQ'}\n",
      "Response: {'bid_price1': 850.65, 'bid_price2': 850.6, 'bid_price3': 850.55, 'bid_price4': 850.5, 'bid_price5': 850.45, 'ask_price1': 851.1, 'ask_price2': 851.2, 'ask_price3': 851.25, 'ask_price4': 851.3, 'ask_price5': 851.35, 'bid_size1': 314, 'bid_size2': 335, 'bid_size3': 556, 'bid_size4': 361, 'bid_size5': 644, 'ask_size1': 107, 'ask_size2': 125, 'ask_size3': 378, 'ask_size4': 216, 'ask_size5': 455, 'bid_order1': 3, 'bid_order2': 7, 'bid_order3': 7, 'bid_order4': 5, 'bid_order5': 5, 'ask_order1': 1, 'ask_order2': 2, 'ask_order3': 4, 'ask_order4': 2, 'ask_order5': 3, 'type': 'dp', 'symbol': 'BSE:SBIN-A'}\n",
      "Response: {'bid_price1': 999.15, 'bid_price2': 999.05, 'bid_price3': 999.0, 'bid_price4': 998.95, 'bid_price5': 998.9, 'ask_price1': 999.25, 'ask_price2': 999.4, 'ask_price3': 999.5, 'ask_price4': 999.55, 'ask_price5': 999.6, 'bid_size1': 5, 'bid_size2': 111, 'bid_size3': 397, 'bid_size4': 88, 'bid_size5': 253, 'ask_size1': 8, 'ask_size2': 19, 'ask_size3': 142, 'ask_size4': 486, 'ask_size5': 91, 'bid_order1': 1, 'bid_order2': 4, 'bid_order3': 5, 'bid_order4': 2, 'bid_order5': 7, 'ask_order1': 1, 'ask_order2': 1, 'ask_order3': 2, 'ask_order4': 7, 'ask_order5': 3, 'type': 'dp', 'symbol': 'NSE:TATAMOTORS-EQ'}\n",
      "Response: {'bid_price1': 850.8, 'bid_price2': 850.7, 'bid_price3': 850.65, 'bid_price4': 850.6, 'bid_price5': 850.55, 'ask_price1': 851.0, 'ask_price2': 851.05, 'ask_price3': 851.1, 'ask_price4': 851.15, 'ask_price5': 851.2, 'bid_size1': 6, 'bid_size2': 180, 'bid_size3': 754, 'bid_size4': 247, 'bid_size5': 382, 'ask_size1': 181, 'ask_size2': 30, 'ask_size3': 359, 'ask_size4': 1058, 'ask_size5': 1394, 'bid_order1': 1, 'bid_order2': 3, 'bid_order3': 2, 'bid_order4': 4, 'bid_order5': 7, 'ask_order1': 4, 'ask_order2': 1, 'ask_order3': 6, 'ask_order4': 9, 'ask_order5': 16, 'type': 'dp', 'symbol': 'NSE:SBIN-EQ'}\n",
      "Response: {'bid_price1': 850.65, 'bid_price2': 850.6, 'bid_price3': 850.55, 'bid_price4': 850.5, 'bid_price5': 850.45, 'ask_price1': 851.1, 'ask_price2': 851.15, 'ask_price3': 851.2, 'ask_price4': 851.25, 'ask_price5': 851.3, 'bid_size1': 154, 'bid_size2': 120, 'bid_size3': 457, 'bid_size4': 361, 'bid_size5': 645, 'ask_size1': 107, 'ask_size2': 56, 'ask_size3': 117, 'ask_size4': 378, 'ask_size5': 289, 'bid_order1': 2, 'bid_order2': 5, 'bid_order3': 5, 'bid_order4': 5, 'bid_order5': 6, 'ask_order1': 1, 'ask_order2': 2, 'ask_order3': 1, 'ask_order4': 4, 'ask_order5': 6, 'type': 'dp', 'symbol': 'BSE:SBIN-A'}\n",
      "Response: {'bid_price1': 850.65, 'bid_price2': 850.6, 'bid_price3': 850.55, 'bid_price4': 850.5, 'bid_price5': 850.45, 'ask_price1': 850.8, 'ask_price2': 850.9, 'ask_price3': 850.95, 'ask_price4': 851.0, 'ask_price5': 851.05, 'bid_size1': 669, 'bid_size2': 5, 'bid_size3': 136, 'bid_size4': 886, 'bid_size5': 116, 'ask_size1': 35, 'ask_size2': 24, 'ask_size3': 440, 'ask_size4': 389, 'ask_size5': 466, 'bid_order1': 1, 'bid_order2': 1, 'bid_order3': 3, 'bid_order4': 6, 'bid_order5': 4, 'ask_order1': 1, 'ask_order2': 2, 'ask_order3': 4, 'ask_order4': 9, 'ask_order5': 5, 'type': 'dp', 'symbol': 'NSE:SBIN-EQ'}\n",
      "Response: {'bid_price1': 850.6, 'bid_price2': 850.55, 'bid_price3': 850.5, 'bid_price4': 850.45, 'bid_price5': 850.4, 'ask_price1': 851.05, 'ask_price2': 851.1, 'ask_price3': 851.15, 'ask_price4': 851.2, 'ask_price5': 851.25, 'bid_size1': 70, 'bid_size2': 521, 'bid_size3': 365, 'bid_size4': 644, 'bid_size5': 369, 'ask_size1': 189, 'ask_size2': 107, 'ask_size3': 48, 'ask_size4': 117, 'ask_size5': 378, 'bid_order1': 4, 'bid_order2': 6, 'bid_order3': 6, 'bid_order4': 5, 'bid_order5': 3, 'ask_order1': 3, 'ask_order2': 1, 'ask_order3': 1, 'ask_order4': 1, 'ask_order5': 4, 'type': 'dp', 'symbol': 'BSE:SBIN-A'}\n",
      "Response: {'bid_price1': 999.25, 'bid_price2': 999.15, 'bid_price3': 999.05, 'bid_price4': 999.0, 'bid_price5': 998.95, 'ask_price1': 999.35, 'ask_price2': 999.4, 'ask_price3': 999.5, 'ask_price4': 999.55, 'ask_price5': 999.6, 'bid_size1': 4, 'bid_size2': 4, 'bid_size3': 36, 'bid_size4': 449, 'bid_size5': 41, 'ask_size1': 1, 'ask_size2': 16, 'ask_size3': 157, 'ask_size4': 473, 'ask_size5': 147, 'bid_order1': 1, 'bid_order2': 1, 'bid_order3': 1, 'bid_order4': 6, 'bid_order5': 1, 'ask_order1': 1, 'ask_order2': 1, 'ask_order3': 3, 'ask_order4': 6, 'ask_order5': 4, 'type': 'dp', 'symbol': 'NSE:TATAMOTORS-EQ'}\n",
      "Response: {'bid_price1': 850.6, 'bid_price2': 850.55, 'bid_price3': 850.5, 'bid_price4': 850.45, 'bid_price5': 850.4, 'ask_price1': 851.0, 'ask_price2': 851.05, 'ask_price3': 851.1, 'ask_price4': 851.15, 'ask_price5': 851.2, 'bid_size1': 70, 'bid_size2': 404, 'bid_size3': 361, 'bid_size4': 296, 'bid_size5': 374, 'ask_size1': 125, 'ask_size2': 181, 'ask_size3': 107, 'ask_size4': 58, 'ask_size5': 166, 'bid_order1': 4, 'bid_order2': 5, 'bid_order3': 5, 'bid_order4': 4, 'bid_order5': 5, 'ask_order1': 2, 'ask_order2': 2, 'ask_order3': 1, 'ask_order4': 2, 'ask_order5': 6, 'type': 'dp', 'symbol': 'BSE:SBIN-A'}\n",
      "Response: {'bid_price1': 850.65, 'bid_price2': 850.6, 'bid_price3': 850.55, 'bid_price4': 850.5, 'bid_price5': 850.45, 'ask_price1': 850.7, 'ask_price2': 850.75, 'ask_price3': 850.8, 'ask_price4': 850.9, 'ask_price5': 850.95, 'bid_size1': 669, 'bid_size2': 5, 'bid_size3': 136, 'bid_size4': 1836, 'bid_size5': 644, 'ask_size1': 1, 'ask_size2': 1, 'ask_size3': 34, 'ask_size4': 1, 'ask_size5': 328, 'bid_order1': 1, 'bid_order2': 1, 'bid_order3': 3, 'bid_order4': 7, 'bid_order5': 4, 'ask_order1': 1, 'ask_order2': 1, 'ask_order3': 1, 'ask_order4': 1, 'ask_order5': 3, 'type': 'dp', 'symbol': 'NSE:SBIN-EQ'}\n",
      "Response: {'bid_price1': 999.05, 'bid_price2': 999.0, 'bid_price3': 998.95, 'bid_price4': 998.9, 'bid_price5': 998.85, 'ask_price1': 999.25, 'ask_price2': 999.4, 'ask_price3': 999.45, 'ask_price4': 999.5, 'ask_price5': 999.55, 'bid_size1': 198, 'bid_size2': 386, 'bid_size3': 136, 'bid_size4': 86, 'bid_size5': 218, 'ask_size1': 54, 'ask_size2': 16, 'ask_size3': 268, 'ask_size4': 65, 'ask_size5': 432, 'bid_order1': 3, 'bid_order2': 5, 'bid_order3': 4, 'bid_order4': 4, 'bid_order5': 3, 'ask_order1': 1, 'ask_order2': 1, 'ask_order3': 1, 'ask_order4': 2, 'ask_order5': 5, 'type': 'dp', 'symbol': 'NSE:TATAMOTORS-EQ'}\n",
      "Response: {'bid_price1': 850.55, 'bid_price2': 850.5, 'bid_price3': 850.45, 'bid_price4': 850.4, 'bid_price5': 850.35, 'ask_price1': 851.0, 'ask_price2': 851.05, 'ask_price3': 851.1, 'ask_price4': 851.15, 'ask_price5': 851.2, 'bid_size1': 186, 'bid_size2': 635, 'bid_size3': 491, 'bid_size4': 373, 'bid_size5': 240, 'ask_size1': 246, 'ask_size2': 245, 'ask_size3': 214, 'ask_size4': 241, 'ask_size5': 165, 'bid_order1': 3, 'bid_order2': 9, 'bid_order3': 6, 'bid_order4': 4, 'bid_order5': 3, 'ask_order1': 4, 'ask_order2': 3, 'ask_order3': 2, 'ask_order4': 2, 'ask_order5': 5, 'type': 'dp', 'symbol': 'BSE:SBIN-A'}\n",
      "Response: {'bid_price1': 850.65, 'bid_price2': 850.6, 'bid_price3': 850.55, 'bid_price4': 850.5, 'bid_price5': 850.45, 'ask_price1': 850.95, 'ask_price2': 851.0, 'ask_price3': 851.05, 'ask_price4': 851.1, 'ask_price5': 851.15, 'bid_size1': 658, 'bid_size2': 5, 'bid_size3': 136, 'bid_size4': 1608, 'bid_size5': 658, 'ask_size1': 469, 'ask_size2': 910, 'ask_size3': 542, 'ask_size4': 459, 'ask_size5': 1045, 'bid_order1': 1, 'bid_order2': 1, 'bid_order3': 3, 'bid_order4': 6, 'bid_order5': 5, 'ask_order1': 5, 'ask_order2': 11, 'ask_order3': 6, 'ask_order4': 9, 'ask_order5': 9, 'type': 'dp', 'symbol': 'NSE:SBIN-EQ'}\n",
      "Response: {'bid_price1': 999.05, 'bid_price2': 999.0, 'bid_price3': 998.95, 'bid_price4': 998.9, 'bid_price5': 998.85, 'ask_price1': 999.45, 'ask_price2': 999.5, 'ask_price3': 999.55, 'ask_price4': 999.6, 'ask_price5': 999.65, 'bid_size1': 282, 'bid_size2': 411, 'bid_size3': 118, 'bid_size4': 77, 'bid_size5': 155, 'ask_size1': 19, 'ask_size2': 148, 'ask_size3': 541, 'ask_size4': 125, 'ask_size5': 355, 'bid_order1': 5, 'bid_order2': 7, 'bid_order3': 3, 'bid_order4': 3, 'bid_order5': 2, 'ask_order1': 1, 'ask_order2': 3, 'ask_order3': 7, 'ask_order4': 4, 'ask_order5': 4, 'type': 'dp', 'symbol': 'NSE:TATAMOTORS-EQ'}\n",
      "Response: {'bid_price1': 850.55, 'bid_price2': 850.5, 'bid_price3': 850.45, 'bid_price4': 850.4, 'bid_price5': 850.35, 'ask_price1': 851.0, 'ask_price2': 851.05, 'ask_price3': 851.1, 'ask_price4': 851.2, 'ask_price5': 851.25, 'bid_size1': 186, 'bid_size2': 636, 'bid_size3': 494, 'bid_size4': 369, 'bid_size5': 240, 'ask_size1': 181, 'ask_size2': 189, 'ask_size3': 107, 'ask_size4': 162, 'ask_size5': 378, 'bid_order1': 3, 'bid_order2': 10, 'bid_order3': 6, 'bid_order4': 3, 'bid_order5': 3, 'ask_order1': 2, 'ask_order2': 3, 'ask_order3': 1, 'ask_order4': 2, 'ask_order5': 4, 'type': 'dp', 'symbol': 'BSE:SBIN-A'}\n",
      "Response: {'bid_price1': 850.55, 'bid_price2': 850.5, 'bid_price3': 850.45, 'bid_price4': 850.4, 'bid_price5': 850.35, 'ask_price1': 851.0, 'ask_price2': 851.05, 'ask_price3': 851.1, 'ask_price4': 851.2, 'ask_price5': 851.25, 'bid_size1': 186, 'bid_size2': 636, 'bid_size3': 494, 'bid_size4': 369, 'bid_size5': 240, 'ask_size1': 181, 'ask_size2': 189, 'ask_size3': 175, 'ask_size4': 162, 'ask_size5': 378, 'bid_order1': 3, 'bid_order2': 10, 'bid_order3': 6, 'bid_order4': 3, 'bid_order5': 3, 'ask_order1': 2, 'ask_order2': 3, 'ask_order3': 2, 'ask_order4': 2, 'ask_order5': 4, 'type': 'dp', 'symbol': 'BSE:SBIN-A'}\n",
      "Response: {'bid_price1': 850.65, 'bid_price2': 850.6, 'bid_price3': 850.55, 'bid_price4': 850.5, 'bid_price5': 850.45, 'ask_price1': 850.95, 'ask_price2': 851.0, 'ask_price3': 851.05, 'ask_price4': 851.1, 'ask_price5': 851.15, 'bid_size1': 657, 'bid_size2': 5, 'bid_size3': 136, 'bid_size4': 1608, 'bid_size5': 55, 'ask_size1': 565, 'ask_size2': 1031, 'ask_size3': 272, 'ask_size4': 564, 'ask_size5': 1045, 'bid_order1': 1, 'bid_order2': 1, 'bid_order3': 3, 'bid_order4': 6, 'bid_order5': 2, 'ask_order1': 7, 'ask_order2': 13, 'ask_order3': 3, 'ask_order4': 11, 'ask_order5': 9, 'type': 'dp', 'symbol': 'NSE:SBIN-EQ'}\n",
      "Response: {'bid_price1': 999.0, 'bid_price2': 998.85, 'bid_price3': 998.8, 'bid_price4': 998.75, 'bid_price5': 998.7, 'ask_price1': 999.05, 'ask_price2': 999.2, 'ask_price3': 999.4, 'ask_price4': 999.45, 'ask_price5': 999.5, 'bid_size1': 1, 'bid_size2': 60, 'bid_size3': 304, 'bid_size4': 589, 'bid_size5': 50, 'ask_size1': 39, 'ask_size2': 33, 'ask_size3': 201, 'ask_size4': 344, 'ask_size5': 548, 'bid_order1': 1, 'bid_order2': 1, 'bid_order3': 7, 'bid_order4': 9, 'bid_order5': 2, 'ask_order1': 2, 'ask_order2': 1, 'ask_order3': 6, 'ask_order4': 8, 'ask_order5': 9, 'type': 'dp', 'symbol': 'NSE:TATAMOTORS-EQ'}\n",
      "Response: {'bid_price1': 850.55, 'bid_price2': 850.5, 'bid_price3': 850.45, 'bid_price4': 850.4, 'bid_price5': 850.35, 'ask_price1': 851.0, 'ask_price2': 851.05, 'ask_price3': 851.1, 'ask_price4': 851.2, 'ask_price5': 851.25, 'bid_size1': 186, 'bid_size2': 640, 'bid_size3': 490, 'bid_size4': 369, 'bid_size5': 240, 'ask_size1': 117, 'ask_size2': 189, 'ask_size3': 107, 'ask_size4': 162, 'ask_size5': 378, 'bid_order1': 3, 'bid_order2': 11, 'bid_order3': 5, 'bid_order4': 3, 'bid_order5': 3, 'ask_order1': 1, 'ask_order2': 3, 'ask_order3': 1, 'ask_order4': 2, 'ask_order5': 4, 'type': 'dp', 'symbol': 'BSE:SBIN-A'}\n",
      "Response: {'bid_price1': 850.65, 'bid_price2': 850.6, 'bid_price3': 850.55, 'bid_price4': 850.5, 'bid_price5': 850.45, 'ask_price1': 850.95, 'ask_price2': 851.0, 'ask_price3': 851.05, 'ask_price4': 851.1, 'ask_price5': 851.15, 'bid_size1': 728, 'bid_size2': 45, 'bid_size3': 470, 'bid_size4': 1837, 'bid_size5': 148, 'ask_size1': 67, 'ask_size2': 920, 'ask_size3': 496, 'ask_size4': 515, 'ask_size5': 1135, 'bid_order1': 2, 'bid_order2': 2, 'bid_order3': 6, 'bid_order4': 8, 'bid_order5': 5, 'ask_order1': 3, 'ask_order2': 11, 'ask_order3': 5, 'ask_order4': 9, 'ask_order5': 10, 'type': 'dp', 'symbol': 'NSE:SBIN-EQ'}\n",
      "Response: {'bid_price1': 998.95, 'bid_price2': 998.9, 'bid_price3': 998.85, 'bid_price4': 998.8, 'bid_price5': 998.75, 'ask_price1': 999.35, 'ask_price2': 999.4, 'ask_price3': 999.45, 'ask_price4': 999.5, 'ask_price5': 999.55, 'bid_size1': 60, 'bid_size2': 91, 'bid_size3': 161, 'bid_size4': 395, 'bid_size5': 667, 'ask_size1': 137, 'ask_size2': 87, 'ask_size3': 295, 'ask_size4': 558, 'ask_size5': 553, 'bid_order1': 1, 'bid_order2': 3, 'bid_order3': 2, 'bid_order4': 8, 'bid_order5': 13, 'ask_order1': 2, 'ask_order2': 3, 'ask_order3': 5, 'ask_order4': 12, 'ask_order5': 8, 'type': 'dp', 'symbol': 'NSE:TATAMOTORS-EQ'}\n",
      "Response: {'bid_price1': 850.6, 'bid_price2': 850.55, 'bid_price3': 850.5, 'bid_price4': 850.45, 'bid_price5': 850.4, 'ask_price1': 851.0, 'ask_price2': 851.05, 'ask_price3': 851.1, 'ask_price4': 851.15, 'ask_price5': 851.2, 'bid_size1': 222, 'bid_size2': 314, 'bid_size3': 685, 'bid_size4': 490, 'bid_size5': 369, 'ask_size1': 117, 'ask_size2': 117, 'ask_size3': 107, 'ask_size4': 8, 'ask_size5': 117, 'bid_order1': 3, 'bid_order2': 5, 'bid_order3': 11, 'bid_order4': 5, 'bid_order5': 3, 'ask_order1': 1, 'ask_order2': 1, 'ask_order3': 1, 'ask_order4': 1, 'ask_order5': 1, 'type': 'dp', 'symbol': 'BSE:SBIN-A'}\n",
      "Response: {'bid_price1': 850.65, 'bid_price2': 850.6, 'bid_price3': 850.55, 'bid_price4': 850.5, 'bid_price5': 850.45, 'ask_price1': 850.95, 'ask_price2': 851.0, 'ask_price3': 851.05, 'ask_price4': 851.1, 'ask_price5': 851.15, 'bid_size1': 724, 'bid_size2': 40, 'bid_size3': 737, 'bid_size4': 1837, 'bid_size5': 141, 'ask_size1': 740, 'ask_size2': 692, 'ask_size3': 537, 'ask_size4': 339, 'ask_size5': 1021, 'bid_order1': 2, 'bid_order2': 1, 'bid_order3': 8, 'bid_order4': 8, 'bid_order5': 4, 'ask_order1': 1, 'ask_order2': 7, 'ask_order3': 6, 'ask_order4': 7, 'ask_order5': 8, 'type': 'dp', 'symbol': 'NSE:SBIN-EQ'}\n",
      "Response: {'bid_price1': 998.95, 'bid_price2': 998.9, 'bid_price3': 998.85, 'bid_price4': 998.8, 'bid_price5': 998.75, 'ask_price1': 999.35, 'ask_price2': 999.4, 'ask_price3': 999.45, 'ask_price4': 999.5, 'ask_price5': 999.55, 'bid_size1': 166, 'bid_size2': 188, 'bid_size3': 602, 'bid_size4': 439, 'bid_size5': 711, 'ask_size1': 46, 'ask_size2': 38, 'ask_size3': 234, 'ask_size4': 378, 'ask_size5': 388, 'bid_order1': 4, 'bid_order2': 4, 'bid_order3': 9, 'bid_order4': 7, 'bid_order5': 13, 'ask_order1': 1, 'ask_order2': 2, 'ask_order3': 3, 'ask_order4': 7, 'ask_order5': 5, 'type': 'dp', 'symbol': 'NSE:TATAMOTORS-EQ'}\n",
      "Response: {'bid_price1': 850.6, 'bid_price2': 850.55, 'bid_price3': 850.5, 'bid_price4': 850.45, 'bid_price5': 850.4, 'ask_price1': 851.0, 'ask_price2': 851.05, 'ask_price3': 851.1, 'ask_price4': 851.15, 'ask_price5': 851.2, 'bid_size1': 222, 'bid_size2': 314, 'bid_size3': 684, 'bid_size4': 490, 'bid_size5': 370, 'ask_size1': 117, 'ask_size2': 117, 'ask_size3': 175, 'ask_size4': 8, 'ask_size5': 117, 'bid_order1': 3, 'bid_order2': 5, 'bid_order3': 10, 'bid_order4': 5, 'bid_order5': 4, 'ask_order1': 1, 'ask_order2': 1, 'ask_order3': 2, 'ask_order4': 1, 'ask_order5': 1, 'type': 'dp', 'symbol': 'BSE:SBIN-A'}\n",
      "Response: {'bid_price1': 850.6, 'bid_price2': 850.55, 'bid_price3': 850.5, 'bid_price4': 850.45, 'bid_price5': 850.4, 'ask_price1': 851.0, 'ask_price2': 851.05, 'ask_price3': 851.1, 'ask_price4': 851.15, 'ask_price5': 851.2, 'bid_size1': 222, 'bid_size2': 325, 'bid_size3': 684, 'bid_size4': 490, 'bid_size5': 370, 'ask_size1': 117, 'ask_size2': 117, 'ask_size3': 175, 'ask_size4': 8, 'ask_size5': 117, 'bid_order1': 3, 'bid_order2': 6, 'bid_order3': 10, 'bid_order4': 5, 'bid_order5': 4, 'ask_order1': 1, 'ask_order2': 1, 'ask_order3': 2, 'ask_order4': 1, 'ask_order5': 1, 'type': 'dp', 'symbol': 'BSE:SBIN-A'}\n",
      "Response: {'bid_price1': 850.65, 'bid_price2': 850.6, 'bid_price3': 850.55, 'bid_price4': 850.5, 'bid_price5': 850.45, 'ask_price1': 850.9, 'ask_price2': 850.95, 'ask_price3': 851.0, 'ask_price4': 851.05, 'ask_price5': 851.1, 'bid_size1': 201, 'bid_size2': 40, 'bid_size3': 603, 'bid_size4': 1837, 'bid_size5': 127, 'ask_size1': 4, 'ask_size2': 1211, 'ask_size3': 1090, 'ask_size4': 299, 'ask_size5': 365, 'bid_order1': 3, 'bid_order2': 1, 'bid_order3': 6, 'bid_order4': 8, 'bid_order5': 3, 'ask_order1': 1, 'ask_order2': 7, 'ask_order3': 9, 'ask_order4': 3, 'ask_order5': 9, 'type': 'dp', 'symbol': 'NSE:SBIN-EQ'}\n",
      "Response: {'bid_price1': 998.95, 'bid_price2': 998.9, 'bid_price3': 998.85, 'bid_price4': 998.8, 'bid_price5': 998.75, 'ask_price1': 999.35, 'ask_price2': 999.4, 'ask_price3': 999.45, 'ask_price4': 999.5, 'ask_price5': 999.55, 'bid_size1': 16, 'bid_size2': 63, 'bid_size3': 460, 'bid_size4': 231, 'bid_size5': 655, 'ask_size1': 31, 'ask_size2': 67, 'ask_size3': 295, 'ask_size4': 408, 'ask_size5': 444, 'bid_order1': 2, 'bid_order2': 1, 'bid_order3': 7, 'bid_order4': 6, 'bid_order5': 12, 'ask_order1': 2, 'ask_order2': 2, 'ask_order3': 5, 'ask_order4': 7, 'ask_order5': 6, 'type': 'dp', 'symbol': 'NSE:TATAMOTORS-EQ'}\n",
      "Response: {'bid_price1': 850.65, 'bid_price2': 850.6, 'bid_price3': 850.55, 'bid_price4': 850.5, 'bid_price5': 850.45, 'ask_price1': 850.95, 'ask_price2': 851.0, 'ask_price3': 851.05, 'ask_price4': 851.1, 'ask_price5': 851.15, 'bid_size1': 250, 'bid_size2': 13, 'bid_size3': 415, 'bid_size4': 1837, 'bid_size5': 127, 'ask_size1': 683, 'ask_size2': 590, 'ask_size3': 304, 'ask_size4': 301, 'ask_size5': 1143, 'bid_order1': 4, 'bid_order2': 1, 'bid_order3': 5, 'bid_order4': 8, 'bid_order5': 3, 'ask_order1': 8, 'ask_order2': 8, 'ask_order3': 3, 'ask_order4': 7, 'ask_order5': 11, 'type': 'dp', 'symbol': 'NSE:SBIN-EQ'}\n",
      "Response: {'bid_price1': 998.95, 'bid_price2': 998.9, 'bid_price3': 998.85, 'bid_price4': 998.8, 'bid_price5': 998.75, 'ask_price1': 999.35, 'ask_price2': 999.4, 'ask_price3': 999.45, 'ask_price4': 999.5, 'ask_price5': 999.55, 'bid_size1': 13, 'bid_size2': 113, 'bid_size3': 273, 'bid_size4': 231, 'bid_size5': 657, 'ask_size1': 31, 'ask_size2': 77, 'ask_size3': 295, 'ask_size4': 408, 'ask_size5': 457, 'bid_order1': 2, 'bid_order2': 2, 'bid_order3': 6, 'bid_order4': 6, 'bid_order5': 13, 'ask_order1': 2, 'ask_order2': 3, 'ask_order3': 5, 'ask_order4': 7, 'ask_order5': 7, 'type': 'dp', 'symbol': 'NSE:TATAMOTORS-EQ'}\n",
      "Response: {'bid_price1': 850.6, 'bid_price2': 850.55, 'bid_price3': 850.5, 'bid_price4': 850.45, 'bid_price5': 850.4, 'ask_price1': 851.0, 'ask_price2': 851.05, 'ask_price3': 851.1, 'ask_price4': 851.15, 'ask_price5': 851.2, 'bid_size1': 4, 'bid_size2': 325, 'bid_size3': 684, 'bid_size4': 491, 'bid_size5': 369, 'ask_size1': 114, 'ask_size2': 117, 'ask_size3': 175, 'ask_size4': 8, 'ask_size5': 117, 'bid_order1': 1, 'bid_order2': 6, 'bid_order3': 10, 'bid_order4': 6, 'bid_order5': 3, 'ask_order1': 1, 'ask_order2': 1, 'ask_order3': 2, 'ask_order4': 1, 'ask_order5': 1, 'type': 'dp', 'symbol': 'BSE:SBIN-A'}\n",
      "Response: {'bid_price1': 850.6, 'bid_price2': 850.55, 'bid_price3': 850.5, 'bid_price4': 850.45, 'bid_price5': 850.4, 'ask_price1': 851.0, 'ask_price2': 851.05, 'ask_price3': 851.1, 'ask_price4': 851.2, 'ask_price5': 851.25, 'bid_size1': 4, 'bid_size2': 180, 'bid_size3': 635, 'bid_size4': 215, 'bid_size5': 370, 'ask_size1': 122, 'ask_size2': 176, 'ask_size3': 263, 'ask_size4': 117, 'ask_size5': 378, 'bid_order1': 1, 'bid_order2': 4, 'bid_order3': 9, 'bid_order4': 3, 'bid_order5': 4, 'ask_order1': 2, 'ask_order2': 2, 'ask_order3': 3, 'ask_order4': 1, 'ask_order5': 4, 'type': 'dp', 'symbol': 'BSE:SBIN-A'}\n",
      "Response: {'bid_price1': 850.55, 'bid_price2': 850.5, 'bid_price3': 850.45, 'bid_price4': 850.4, 'bid_price5': 850.35, 'ask_price1': 850.9, 'ask_price2': 850.95, 'ask_price3': 851.0, 'ask_price4': 851.05, 'ask_price5': 851.1, 'bid_size1': 458, 'bid_size2': 1837, 'bid_size3': 113, 'bid_size4': 1381, 'bid_size5': 533, 'ask_size1': 36, 'ask_size2': 372, 'ask_size3': 773, 'ask_size4': 530, 'ask_size5': 419, 'bid_order1': 6, 'bid_order2': 8, 'bid_order3': 3, 'bid_order4': 10, 'bid_order5': 9, 'ask_order1': 2, 'ask_order2': 5, 'ask_order3': 9, 'ask_order4': 4, 'ask_order5': 9, 'type': 'dp', 'symbol': 'NSE:SBIN-EQ'}\n",
      "Response: {'bid_price1': 998.95, 'bid_price2': 998.9, 'bid_price3': 998.85, 'bid_price4': 998.8, 'bid_price5': 998.75, 'ask_price1': 999.2, 'ask_price2': 999.35, 'ask_price3': 999.4, 'ask_price4': 999.45, 'ask_price5': 999.5, 'bid_size1': 65, 'bid_size2': 13, 'bid_size3': 237, 'bid_size4': 294, 'bid_size5': 655, 'ask_size1': 50, 'ask_size2': 15, 'ask_size3': 124, 'ask_size4': 295, 'ask_size5': 408, 'bid_order1': 2, 'bid_order2': 2, 'bid_order3': 5, 'bid_order4': 7, 'bid_order5': 12, 'ask_order1': 1, 'ask_order2': 2, 'ask_order3': 4, 'ask_order4': 5, 'ask_order5': 7, 'type': 'dp', 'symbol': 'NSE:TATAMOTORS-EQ'}\n"
     ]
    }
   ],
   "source": [
    "depth.subscribe()"
   ]
  },
  {
   "cell_type": "code",
   "execution_count": 36,
   "metadata": {},
   "outputs": [],
   "source": [
    "symbol = Symbol(access_token=depth_access,stonks=['NSE:SBIN-EQ','BSE:SBIN-A','NSE:TATAMOTORS-EQ'])"
   ]
  },
  {
   "cell_type": "code",
   "execution_count": 37,
   "metadata": {},
   "outputs": [
    {
     "name": "stdout",
     "output_type": "stream",
     "text": [
      "Response: {'type': 'cn', 'code': 200, 'message': 'Authentication done', 's': 'ok'}\n",
      "connection opened\n"
     ]
    },
    {
     "name": "stdout",
     "output_type": "stream",
     "text": [
      "Response: {'type': 'ful', 'code': 200, 'message': 'Full Mode On', 's': 'ok'}\n"
     ]
    }
   ],
   "source": [
    "symbol.connect()"
   ]
  },
  {
   "cell_type": "code",
   "execution_count": 39,
   "metadata": {},
   "outputs": [
    {
     "name": "stdout",
     "output_type": "stream",
     "text": [
      "Response: {'ltp': 1001.0, 'vol_traded_today': 8001807, 'last_traded_time': 1720591136, 'exch_feed_time': 1720591136, 'bid_size': 256, 'ask_size': 11, 'bid_price': 1000.75, 'ask_price': 1001.0, 'last_traded_qty': 2, 'tot_buy_qty': 550254, 'tot_sell_qty': 1514719, 'avg_trade_price': 1007.63, 'low_price': 986.05, 'high_price': 1019.85, 'lower_ckt': 0, 'upper_ckt': 0, 'open_price': 1015.0, 'prev_close_price': 1014.95, 'type': 3, 'symbol': 8, 'ch': -13.95, 'chp': -1.3745}\n",
      "Error: 'int' object is not iterable\n",
      "Response: {'bid_price1': 1000.75, 'bid_price2': 1000.7, 'bid_price3': 1000.65, 'bid_price4': 1000.6, 'bid_price5': 1000.55, 'ask_price1': 1001.0, 'ask_price2': 1001.05, 'ask_price3': 1001.15, 'ask_price4': 1001.2, 'ask_price5': 1001.25, 'bid_size1': 256, 'bid_size2': 178, 'bid_size3': 173, 'bid_size4': 161, 'bid_size5': 36, 'ask_size1': 11, 'ask_size2': 4, 'ask_size3': 500, 'ask_size4': 47, 'ask_size5': 273, 'bid_order1': 3, 'bid_order2': 3, 'bid_order3': 8, 'bid_order4': 5, 'bid_order5': 2, 'ask_order1': 1, 'ask_order2': 2, 'ask_order3': 1, 'ask_order4': 1, 'ask_order5': 6, 'type': 'dp', 'symbol': 'NSE:TATAMOTORS-EQ'}\n",
      "Response: {'ltp': 849.75, 'vol_traded_today': 8069246, 'last_traded_time': 1720591136, 'exch_feed_time': 1720591137, 'bid_size': 24, 'ask_size': 58, 'bid_price': 849.65, 'ask_price': 849.75, 'last_traded_qty': 15, 'tot_buy_qty': 763477, 'tot_sell_qty': 1628238, 'avg_trade_price': 851.57, 'low_price': 843.5, 'high_price': 860.25, 'lower_ckt': 0, 'upper_ckt': 0, 'open_price': 860.1, 'prev_close_price': 861.3, 'type': 3, 'symbol': 7, 'ch': -11.55, 'chp': -1.341}\n",
      "Error: 'int' object is not iterable\n",
      "Response: {'bid_price1': 849.65, 'bid_price2': 849.6, 'bid_price3': 849.55, 'bid_price4': 849.5, 'bid_price5': 849.45, 'ask_price1': 849.75, 'ask_price2': 849.9, 'ask_price3': 849.95, 'ask_price4': 850.0, 'ask_price5': 850.05, 'bid_size1': 24, 'bid_size2': 145, 'bid_size3': 545, 'bid_size4': 723, 'bid_size5': 232, 'ask_size1': 58, 'ask_size2': 101, 'ask_size3': 496, 'ask_size4': 7124, 'ask_size5': 756, 'bid_order1': 2, 'bid_order2': 3, 'bid_order3': 7, 'bid_order4': 7, 'bid_order5': 5, 'ask_order1': 1, 'ask_order2': 2, 'ask_order3': 6, 'ask_order4': 30, 'ask_order5': 5, 'type': 'dp', 'symbol': 'NSE:SBIN-EQ'}\n",
      "Response: {'ltp': 849.75, 'vol_traded_today': 8069246, 'last_traded_time': 1720591136, 'exch_feed_time': 1720591137, 'bid_size': 24, 'ask_size': 58, 'bid_price': 849.65, 'ask_price': 849.75, 'last_traded_qty': 1, 'tot_buy_qty': 763477, 'tot_sell_qty': 1628238, 'avg_trade_price': 851.57, 'low_price': 843.5, 'high_price': 860.25, 'lower_ckt': 0, 'upper_ckt': 0, 'open_price': 860.1, 'prev_close_price': 861.3, 'type': 3, 'symbol': 7, 'ch': -11.55, 'chp': -1.341}\n",
      "Error: 'int' object is not iterable\n",
      "Response: {'ltp': 1000.95, 'vol_traded_today': 8001807, 'last_traded_time': 1720591136, 'exch_feed_time': 1720591137, 'bid_size': 256, 'ask_size': 11, 'bid_price': 1000.75, 'ask_price': 1001.0, 'last_traded_qty': 16, 'tot_buy_qty': 550254, 'tot_sell_qty': 1514719, 'avg_trade_price': 1007.63, 'low_price': 986.05, 'high_price': 1019.85, 'lower_ckt': 0, 'upper_ckt': 0, 'open_price': 1015.0, 'prev_close_price': 1014.95, 'type': 3, 'symbol': 8, 'ch': -14.0, 'chp': -1.3794}\n",
      "Error: 'int' object is not iterable\n",
      "Response: {'type': 'unsub', 'code': 200, 'message': 'Unsubscribed', 's': 'ok'}\n"
     ]
    },
    {
     "name": "stdout",
     "output_type": "stream",
     "text": [
      "Response: {'ltp': 849.95, 'vol_traded_today': 293844, 'last_traded_time': 1720591132, 'exch_feed_time': 1720591138, 'bid_size': 363, 'ask_size': 192, 'bid_price': 849.5, 'ask_price': 849.95, 'last_traded_qty': 1, 'tot_buy_qty': 131569, 'tot_sell_qty': 154295, 'avg_trade_price': 850.56, 'low_price': 843.3, 'high_price': 861.0, 'lower_ckt': 0, 'upper_ckt': 0, 'open_price': 861.0, 'prev_close_price': 860.95, 'type': 3, 'symbol': 6, 'ch': -11.0, 'chp': -1.2777}\n",
      "Error: 'int' object is not iterable\n",
      "Response: {'bid_price1': 849.5, 'bid_price2': 849.45, 'bid_price3': 849.4, 'bid_price4': 849.35, 'bid_price5': 849.3, 'ask_price1': 849.95, 'ask_price2': 850.0, 'ask_price3': 850.05, 'ask_price4': 850.1, 'ask_price5': 850.15, 'bid_size1': 363, 'bid_size2': 757, 'bid_size3': 473, 'bid_size4': 242, 'bid_size5': 312, 'ask_size1': 192, 'ask_size2': 256, 'ask_size3': 67, 'ask_size4': 215, 'ask_size5': 284, 'bid_order1': 6, 'bid_order2': 7, 'bid_order3': 5, 'bid_order4': 2, 'bid_order5': 4, 'ask_order1': 2, 'ask_order2': 3, 'ask_order3': 4, 'ask_order4': 2, 'ask_order5': 4, 'type': 'dp', 'symbol': 'BSE:SBIN-A'}\n",
      "Response: {'type': 'unsub', 'code': 200, 'message': 'Unsubscribed', 's': 'ok'}\n",
      "Response: {'ltp': 1000.75, 'vol_traded_today': 8002020, 'last_traded_time': 1720591137, 'exch_feed_time': 1720591137, 'bid_size': 308, 'ask_size': 14, 'bid_price': 1000.75, 'ask_price': 1001.05, 'last_traded_qty': 17, 'tot_buy_qty': 550011, 'tot_sell_qty': 1514805, 'avg_trade_price': 1007.63, 'low_price': 986.05, 'high_price': 1019.85, 'lower_ckt': 0, 'upper_ckt': 0, 'open_price': 1015.0, 'prev_close_price': 1014.95, 'type': 2, 'symbol': 10, 'ch': -14.2, 'chp': -1.3991}\n",
      "Error: 'int' object is not iterable\n",
      "Response: {'bid_price1': 1000.75, 'bid_price2': 1000.7, 'bid_price3': 1000.65, 'bid_price4': 1000.6, 'bid_price5': 1000.55, 'ask_price1': 1001.05, 'ask_price2': 1001.1, 'ask_price3': 1001.15, 'ask_price4': 1001.25, 'ask_price5': 1001.3, 'bid_size1': 308, 'bid_size2': 55, 'bid_size3': 318, 'bid_size4': 116, 'bid_size5': 59, 'ask_size1': 14, 'ask_size2': 10, 'ask_size3': 500, 'ask_size4': 273, 'ask_size5': 313, 'bid_order1': 4, 'bid_order2': 2, 'bid_order3': 10, 'bid_order4': 4, 'bid_order5': 3, 'ask_order1': 3, 'ask_order2': 1, 'ask_order3': 1, 'ask_order4': 6, 'ask_order5': 3, 'type': 'dp', 'symbol': 'NSE:TATAMOTORS-EQ'}\n",
      "Response: {'bid_price1': 849.7, 'bid_price2': 849.65, 'bid_price3': 849.6, 'bid_price4': 849.55, 'bid_price5': 849.5, 'ask_price1': 849.75, 'ask_price2': 849.9, 'ask_price3': 849.95, 'ask_price4': 850.0, 'ask_price5': 850.05, 'bid_size1': 2998, 'bid_size2': 115, 'bid_size3': 373, 'bid_size4': 536, 'bid_size5': 778, 'ask_size1': 33, 'ask_size2': 238, 'ask_size3': 2, 'ask_size4': 6464, 'ask_size5': 367, 'bid_order1': 1, 'bid_order2': 4, 'bid_order3': 4, 'bid_order4': 8, 'bid_order5': 7, 'ask_order1': 1, 'ask_order2': 3, 'ask_order3': 2, 'ask_order4': 27, 'ask_order5': 5, 'type': 'dp', 'symbol': 'NSE:SBIN-EQ'}\n",
      "Response: {'ltp': 849.95, 'vol_traded_today': 293844, 'last_traded_time': 1720591132, 'exch_feed_time': 1720591138, 'bid_size': 363, 'ask_size': 128, 'bid_price': 849.5, 'ask_price': 849.95, 'last_traded_qty': 1, 'tot_buy_qty': 131269, 'tot_sell_qty': 157398, 'avg_trade_price': 850.56, 'low_price': 843.3, 'high_price': 861.0, 'lower_ckt': 0, 'upper_ckt': 0, 'open_price': 861.0, 'prev_close_price': 860.95, 'type': 7, 'symbol': 6, 'ch': -11.0, 'chp': -1.2777}\n",
      "Error: 'int' object is not iterable\n",
      "Response: {'bid_price1': 849.5, 'bid_price2': 849.45, 'bid_price3': 849.4, 'bid_price4': 849.35, 'bid_price5': 849.3, 'ask_price1': 849.95, 'ask_price2': 850.0, 'ask_price3': 850.05, 'ask_price4': 850.1, 'ask_price5': 850.15, 'bid_size1': 363, 'bid_size2': 757, 'bid_size3': 489, 'bid_size4': 242, 'bid_size5': 718, 'ask_size1': 128, 'ask_size2': 256, 'ask_size3': 67, 'ask_size4': 215, 'ask_size5': 284, 'bid_order1': 6, 'bid_order2': 7, 'bid_order3': 6, 'bid_order4': 2, 'bid_order5': 4, 'ask_order1': 1, 'ask_order2': 3, 'ask_order3': 4, 'ask_order4': 2, 'ask_order5': 4, 'type': 'dp', 'symbol': 'BSE:SBIN-A'}\n",
      "Response: {'ltp': 1001.1, 'vol_traded_today': 8002020, 'last_traded_time': 1720591137, 'exch_feed_time': 1720591138, 'bid_size': 308, 'ask_size': 14, 'bid_price': 1000.75, 'ask_price': 1001.05, 'last_traded_qty': 1, 'tot_buy_qty': 550011, 'tot_sell_qty': 1514805, 'avg_trade_price': 1007.63, 'low_price': 986.05, 'high_price': 1019.85, 'lower_ckt': 0, 'upper_ckt': 0, 'open_price': 1015.0, 'prev_close_price': 1014.95, 'type': 2, 'symbol': 10, 'ch': -13.85, 'chp': -1.3646}\n",
      "Error: 'int' object is not iterable\n",
      "Response: {'ltp': 1000.75, 'vol_traded_today': 8002068, 'last_traded_time': 1720591138, 'exch_feed_time': 1720591138, 'bid_size': 261, 'ask_size': 9, 'bid_price': 1000.75, 'ask_price': 1001.1, 'last_traded_qty': 37, 'tot_buy_qty': 550064, 'tot_sell_qty': 1514749, 'avg_trade_price': 1007.63, 'low_price': 986.05, 'high_price': 1019.85, 'lower_ckt': 0, 'upper_ckt': 0, 'open_price': 1015.0, 'prev_close_price': 1014.95, 'type': 2, 'symbol': 10, 'ch': -14.2, 'chp': -1.3991}\n",
      "Error: 'int' object is not iterable\n",
      "Response: {'bid_price1': 1000.75, 'bid_price2': 1000.7, 'bid_price3': 1000.65, 'bid_price4': 1000.6, 'bid_price5': 1000.55, 'ask_price1': 1001.1, 'ask_price2': 1001.15, 'ask_price3': 1001.25, 'ask_price4': 1001.3, 'ask_price5': 1001.35, 'bid_size1': 261, 'bid_size2': 55, 'bid_size3': 318, 'bid_size4': 116, 'bid_size5': 59, 'ask_size1': 9, 'ask_size2': 504, 'ask_size3': 273, 'ask_size4': 313, 'ask_size5': 150, 'bid_order1': 4, 'bid_order2': 2, 'bid_order3': 10, 'bid_order4': 4, 'bid_order5': 3, 'ask_order1': 1, 'ask_order2': 3, 'ask_order3': 6, 'ask_order4': 3, 'ask_order5': 4, 'type': 'dp', 'symbol': 'NSE:TATAMOTORS-EQ'}\n",
      "Response: {'bid_price1': 849.7, 'bid_price2': 849.65, 'bid_price3': 849.6, 'bid_price4': 849.55, 'bid_price5': 849.5, 'ask_price1': 849.75, 'ask_price2': 849.95, 'ask_price3': 850.0, 'ask_price4': 850.05, 'ask_price5': 850.1, 'bid_size1': 2997, 'bid_size2': 116, 'bid_size3': 373, 'bid_size4': 536, 'bid_size5': 778, 'ask_size1': 28, 'ask_size2': 2, 'ask_size3': 6464, 'ask_size4': 367, 'ask_size5': 404, 'bid_order1': 1, 'bid_order2': 5, 'bid_order3': 4, 'bid_order4': 8, 'bid_order5': 7, 'ask_order1': 1, 'ask_order2': 2, 'ask_order3': 27, 'ask_order4': 5, 'ask_order5': 6, 'type': 'dp', 'symbol': 'NSE:SBIN-EQ'}\n",
      "Response: {'ltp': 849.95, 'vol_traded_today': 293844, 'last_traded_time': 1720591132, 'exch_feed_time': 1720591138, 'bid_size': 379, 'ask_size': 256, 'bid_price': 849.5, 'ask_price': 850.0, 'last_traded_qty': 1, 'tot_buy_qty': 131269, 'tot_sell_qty': 157378, 'avg_trade_price': 850.56, 'low_price': 843.3, 'high_price': 861.0, 'lower_ckt': 0, 'upper_ckt': 0, 'open_price': 861.0, 'prev_close_price': 860.95, 'type': 7, 'symbol': 5, 'ch': -11.0, 'chp': -1.2777}\n",
      "Error: 'int' object is not iterable\n",
      "Response: {'bid_price1': 849.5, 'bid_price2': 849.45, 'bid_price3': 849.4, 'bid_price4': 849.35, 'bid_price5': 849.3, 'ask_price1': 850.0, 'ask_price2': 850.05, 'ask_price3': 850.1, 'ask_price4': 850.15, 'ask_price5': 850.2, 'bid_size1': 379, 'bid_size2': 757, 'bid_size3': 473, 'bid_size4': 242, 'bid_size5': 718, 'ask_size1': 256, 'ask_size2': 195, 'ask_size3': 215, 'ask_size4': 284, 'ask_size5': 279, 'bid_order1': 7, 'bid_order2': 7, 'bid_order3': 5, 'bid_order4': 2, 'bid_order5': 4, 'ask_order1': 3, 'ask_order2': 5, 'ask_order3': 2, 'ask_order4': 4, 'ask_order5': 3, 'type': 'dp', 'symbol': 'BSE:SBIN-A'}\n",
      "Response: {'ltp': 1000.75, 'vol_traded_today': 8002068, 'last_traded_time': 1720591138, 'exch_feed_time': 1720591139, 'bid_size': 261, 'ask_size': 9, 'bid_price': 1000.75, 'ask_price': 1001.1, 'last_traded_qty': 37, 'tot_buy_qty': 550064, 'tot_sell_qty': 1514749, 'avg_trade_price': 1007.63, 'low_price': 986.05, 'high_price': 1019.85, 'lower_ckt': 0, 'upper_ckt': 0, 'open_price': 1015.0, 'prev_close_price': 1014.95, 'type': 2, 'symbol': 10, 'ch': -14.2, 'chp': -1.3991}\n",
      "Error: 'int' object is not iterable\n",
      "Response: {'ltp': 1000.75, 'vol_traded_today': 8002068, 'last_traded_time': 1720591138, 'exch_feed_time': 1720591139, 'bid_size': 261, 'ask_size': 9, 'bid_price': 1000.75, 'ask_price': 1001.1, 'last_traded_qty': 37, 'tot_buy_qty': 548334, 'tot_sell_qty': 1514809, 'avg_trade_price': 1007.63, 'low_price': 986.05, 'high_price': 1019.85, 'lower_ckt': 0, 'upper_ckt': 0, 'open_price': 1015.0, 'prev_close_price': 1014.95, 'type': 3, 'symbol': 8, 'ch': -14.2, 'chp': -1.3991}\n",
      "Error: 'int' object is not iterable\n",
      "Response: {'bid_price1': 1000.75, 'bid_price2': 1000.7, 'bid_price3': 1000.65, 'bid_price4': 1000.6, 'bid_price5': 1000.55, 'ask_price1': 1001.1, 'ask_price2': 1001.15, 'ask_price3': 1001.2, 'ask_price4': 1001.25, 'ask_price5': 1001.3, 'bid_size1': 261, 'bid_size2': 78, 'bid_size3': 240, 'bid_size4': 131, 'bid_size5': 122, 'ask_size1': 9, 'ask_size2': 504, 'ask_size3': 20, 'ask_size4': 273, 'ask_size5': 333, 'bid_order1': 4, 'bid_order2': 3, 'bid_order3': 8, 'bid_order4': 5, 'bid_order5': 4, 'ask_order1': 1, 'ask_order2': 3, 'ask_order3': 1, 'ask_order4': 6, 'ask_order5': 4, 'type': 'dp', 'symbol': 'NSE:TATAMOTORS-EQ'}\n",
      "Response: {'bid_price1': 849.7, 'bid_price2': 849.65, 'bid_price3': 849.6, 'bid_price4': 849.55, 'bid_price5': 849.5, 'ask_price1': 849.75, 'ask_price2': 849.95, 'ask_price3': 850.0, 'ask_price4': 850.05, 'ask_price5': 850.1, 'bid_size1': 2802, 'bid_size2': 62, 'bid_size3': 373, 'bid_size4': 536, 'bid_size5': 828, 'ask_size1': 6, 'ask_size2': 57, 'ask_size3': 6475, 'ask_size4': 367, 'ask_size5': 404, 'bid_order1': 2, 'bid_order2': 4, 'bid_order3': 4, 'bid_order4': 8, 'bid_order5': 8, 'ask_order1': 1, 'ask_order2': 3, 'ask_order3': 28, 'ask_order4': 5, 'ask_order5': 6, 'type': 'dp', 'symbol': 'NSE:SBIN-EQ'}\n",
      "Response: {'ltp': 849.95, 'vol_traded_today': 293844, 'last_traded_time': 1720591132, 'exch_feed_time': 1720591142, 'bid_size': 363, 'ask_size': 256, 'bid_price': 849.5, 'ask_price': 850.0, 'last_traded_qty': 1, 'tot_buy_qty': 131269, 'tot_sell_qty': 157378, 'avg_trade_price': 850.56, 'low_price': 843.3, 'high_price': 861.0, 'lower_ckt': 0, 'upper_ckt': 0, 'open_price': 861.0, 'prev_close_price': 860.95, 'type': 7, 'symbol': 5, 'ch': -11.0, 'chp': -1.2777}\n",
      "Error: 'int' object is not iterable\n",
      "Response: {'bid_price1': 849.5, 'bid_price2': 849.45, 'bid_price3': 849.4, 'bid_price4': 849.35, 'bid_price5': 849.3, 'ask_price1': 850.0, 'ask_price2': 850.05, 'ask_price3': 850.1, 'ask_price4': 850.15, 'ask_price5': 850.2, 'bid_size1': 363, 'bid_size2': 773, 'bid_size3': 473, 'bid_size4': 242, 'bid_size5': 296, 'ask_size1': 256, 'ask_size2': 195, 'ask_size3': 215, 'ask_size4': 284, 'ask_size5': 279, 'bid_order1': 6, 'bid_order2': 8, 'bid_order3': 5, 'bid_order4': 2, 'bid_order5': 3, 'ask_order1': 3, 'ask_order2': 5, 'ask_order3': 2, 'ask_order4': 4, 'ask_order5': 3, 'type': 'dp', 'symbol': 'BSE:SBIN-A'}\n",
      "Response: {'ltp': 1001.05, 'vol_traded_today': 8002068, 'last_traded_time': 1720591138, 'exch_feed_time': 1720591140, 'bid_size': 261, 'ask_size': 9, 'bid_price': 1000.75, 'ask_price': 1001.1, 'last_traded_qty': 1, 'tot_buy_qty': 548334, 'tot_sell_qty': 1514809, 'avg_trade_price': 1007.63, 'low_price': 986.05, 'high_price': 1019.85, 'lower_ckt': 0, 'upper_ckt': 0, 'open_price': 1015.0, 'prev_close_price': 1014.95, 'type': 3, 'symbol': 8, 'ch': -13.9, 'chp': -1.3695}\n",
      "Error: 'int' object is not iterable\n",
      "Response: {'ltp': 849.65, 'vol_traded_today': 293884, 'last_traded_time': 1720591140, 'exch_feed_time': 1720591142, 'bid_size': 153, 'ask_size': 128, 'bid_price': 849.65, 'ask_price': 850.05, 'last_traded_qty': 40, 'tot_buy_qty': 130947, 'tot_sell_qty': 155157, 'avg_trade_price': 850.56, 'low_price': 843.3, 'high_price': 861.0, 'lower_ckt': 0, 'upper_ckt': 0, 'open_price': 861.0, 'prev_close_price': 860.95, 'type': 8, 'symbol': 5, 'ch': -11.3, 'chp': -1.3125}\n",
      "Error: 'int' object is not iterable\n",
      "Response: {'bid_price1': 849.65, 'bid_price2': 849.6, 'bid_price3': 849.55, 'bid_price4': 849.5, 'bid_price5': 849.45, 'ask_price1': 850.05, 'ask_price2': 850.1, 'ask_price3': 850.15, 'ask_price4': 850.2, 'ask_price5': 850.25, 'bid_size1': 153, 'bid_size2': 215, 'bid_size3': 359, 'bid_size4': 448, 'bid_size5': 757, 'ask_size1': 128, 'ask_size2': 343, 'ask_size3': 279, 'ask_size4': 279, 'ask_size5': 197, 'bid_order1': 2, 'bid_order2': 2, 'bid_order3': 3, 'bid_order4': 8, 'bid_order5': 7, 'ask_order1': 1, 'ask_order2': 3, 'ask_order3': 3, 'ask_order4': 3, 'ask_order5': 3, 'type': 'dp', 'symbol': 'BSE:SBIN-A'}\n"
     ]
    }
   ],
   "source": [
    "symbol.unsubscribe()\n",
    "depth.unsubscribe()"
   ]
  },
  {
   "cell_type": "code",
   "execution_count": 41,
   "metadata": {},
   "outputs": [
    {
     "name": "stdout",
     "output_type": "stream",
     "text": [
      "Response: {'ltp': 1000.85, 'vol_traded_today': 8004818, 'last_traded_time': 1720591144, 'exch_feed_time': 1720591145, 'bid_size': 1, 'ask_size': 9, 'bid_price': 1000.65, 'ask_price': 1000.85, 'last_traded_qty': 2, 'tot_buy_qty': 545647, 'tot_sell_qty': 1516985, 'avg_trade_price': 1007.63, 'low_price': 986.05, 'high_price': 1019.85, 'lower_ckt': 0, 'upper_ckt': 0, 'open_price': 1015.0, 'prev_close_price': 1014.95, 'type': 1, 'symbol': 1, 'ch': -14.1, 'chp': -1.3892}\n",
      "Error: 'int' object is not iterable\n"
     ]
    },
    {
     "name": "stdout",
     "output_type": "stream",
     "text": [
      "Response: {'ltp': 849.6, 'vol_traded_today': 293885, 'last_traded_time': 1720591140, 'exch_feed_time': 1720591147, 'bid_size': 97, 'ask_size': 244, 'bid_price': 849.6, 'ask_price': 850.0, 'last_traded_qty': 1, 'tot_buy_qty': 130575, 'tot_sell_qty': 155403, 'avg_trade_price': 850.56, 'low_price': 843.3, 'high_price': 861.0, 'lower_ckt': 0, 'upper_ckt': 0, 'open_price': 861.0, 'prev_close_price': 860.95, 'type': 2, 'symbol': 7, 'ch': -11.35, 'chp': -1.3183}\n",
      "Error: 'int' object is not iterable\n",
      "Response: {'ltp': 1000.85, 'vol_traded_today': 8004839, 'last_traded_time': 1720591145, 'exch_feed_time': 1720591145, 'bid_size': 11, 'ask_size': 38, 'bid_price': 1000.65, 'ask_price': 1000.9, 'last_traded_qty': 1, 'tot_buy_qty': 546234, 'tot_sell_qty': 1517183, 'avg_trade_price': 1007.63, 'low_price': 986.05, 'high_price': 1019.85, 'lower_ckt': 0, 'upper_ckt': 0, 'open_price': 1015.0, 'prev_close_price': 1014.95, 'type': 1, 'symbol': 2, 'ch': -14.1, 'chp': -1.3892}\n",
      "Error: 'int' object is not iterable\n",
      "Response: {'bid_price1': 1000.65, 'bid_price2': 1000.6, 'bid_price3': 1000.55, 'bid_price4': 1000.5, 'bid_price5': 1000.45, 'ask_price1': 1000.9, 'ask_price2': 1000.95, 'ask_price3': 1001.0, 'ask_price4': 1001.05, 'ask_price5': 1001.1, 'bid_size1': 11, 'bid_size2': 20, 'bid_size3': 90, 'bid_size4': 400, 'bid_size5': 200, 'ask_size1': 38, 'ask_size2': 75, 'ask_size3': 154, 'ask_size4': 690, 'ask_size5': 218, 'bid_order1': 2, 'bid_order2': 1, 'bid_order3': 2, 'bid_order4': 7, 'bid_order5': 1, 'ask_order1': 6, 'ask_order2': 3, 'ask_order3': 4, 'ask_order4': 6, 'ask_order5': 4, 'type': 'dp', 'symbol': 'NSE:TATAMOTORS-EQ'}\n",
      "Response: {'bid_price1': 849.7, 'bid_price2': 849.65, 'bid_price3': 849.6, 'bid_price4': 849.55, 'bid_price5': 849.5, 'ask_price1': 849.95, 'ask_price2': 850.0, 'ask_price3': 850.05, 'ask_price4': 850.1, 'ask_price5': 850.15, 'bid_size1': 5, 'bid_size2': 2, 'bid_size3': 55, 'bid_size4': 523, 'bid_size5': 669, 'ask_size1': 248, 'ask_size2': 7597, 'ask_size3': 912, 'ask_size4': 1140, 'ask_size5': 1795, 'bid_order1': 1, 'bid_order2': 2, 'bid_order3': 1, 'bid_order4': 7, 'bid_order5': 6, 'ask_order1': 7, 'ask_order2': 33, 'ask_order3': 6, 'ask_order4': 9, 'ask_order5': 13, 'type': 'dp', 'symbol': 'NSE:SBIN-EQ'}\n",
      "Response: {'ltp': 1000.85, 'vol_traded_today': 8004839, 'last_traded_time': 1720591145, 'exch_feed_time': 1720591146, 'bid_size': 11, 'ask_size': 38, 'bid_price': 1000.65, 'ask_price': 1000.9, 'last_traded_qty': 1, 'tot_buy_qty': 546234, 'tot_sell_qty': 1517183, 'avg_trade_price': 1007.63, 'low_price': 986.05, 'high_price': 1019.85, 'lower_ckt': 0, 'upper_ckt': 0, 'open_price': 1015.0, 'prev_close_price': 1014.95, 'type': 1, 'symbol': 2, 'ch': -14.1, 'chp': -1.3892}\n",
      "Error: 'int' object is not iterable\n",
      "Response: {'ltp': 849.6, 'vol_traded_today': 293885, 'last_traded_time': 1720591140, 'exch_feed_time': 1720591147, 'bid_size': 97, 'ask_size': 244, 'bid_price': 849.6, 'ask_price': 850.0, 'last_traded_qty': 1, 'tot_buy_qty': 130285, 'tot_sell_qty': 155103, 'avg_trade_price': 850.56, 'low_price': 843.3, 'high_price': 861.0, 'lower_ckt': 0, 'upper_ckt': 0, 'open_price': 861.0, 'prev_close_price': 860.95, 'type': 2, 'symbol': 7, 'ch': -11.35, 'chp': -1.3183}\n",
      "Error: 'int' object is not iterable\n",
      "Response: {'ltp': 1000.65, 'vol_traded_today': 8004845, 'last_traded_time': 1720591146, 'exch_feed_time': 1720591146, 'bid_size': 6, 'ask_size': 28, 'bid_price': 1000.65, 'ask_price': 1000.9, 'last_traded_qty': 4, 'tot_buy_qty': 545650, 'tot_sell_qty': 1515528, 'avg_trade_price': 1007.63, 'low_price': 986.05, 'high_price': 1019.85, 'lower_ckt': 0, 'upper_ckt': 0, 'open_price': 1015.0, 'prev_close_price': 1014.95, 'type': 1, 'symbol': 2, 'ch': -14.3, 'chp': -1.4089}\n",
      "Error: 'int' object is not iterable\n",
      "Response: {'bid_price1': 1000.65, 'bid_price2': 1000.6, 'bid_price3': 1000.55, 'bid_price4': 1000.5, 'bid_price5': 1000.45, 'ask_price1': 1000.9, 'ask_price2': 1000.95, 'ask_price3': 1001.0, 'ask_price4': 1001.05, 'ask_price5': 1001.1, 'bid_size1': 6, 'bid_size2': 20, 'bid_size3': 90, 'bid_size4': 376, 'bid_size5': 200, 'ask_size1': 28, 'ask_size2': 65, 'ask_size3': 84, 'ask_size4': 35, 'ask_size5': 285, 'bid_order1': 1, 'bid_order2': 1, 'bid_order3': 2, 'bid_order4': 9, 'bid_order5': 1, 'ask_order1': 6, 'ask_order2': 2, 'ask_order3': 3, 'ask_order4': 3, 'ask_order5': 5, 'type': 'dp', 'symbol': 'NSE:TATAMOTORS-EQ'}\n",
      "Response: {'ltp': 849.6, 'vol_traded_today': 293885, 'last_traded_time': 1720591140, 'exch_feed_time': 1720591147, 'bid_size': 97, 'ask_size': 244, 'bid_price': 849.6, 'ask_price': 850.0, 'last_traded_qty': 1, 'tot_buy_qty': 130585, 'tot_sell_qty': 154158, 'avg_trade_price': 850.56, 'low_price': 843.3, 'high_price': 861.0, 'lower_ckt': 0, 'upper_ckt': 0, 'open_price': 861.0, 'prev_close_price': 860.95, 'type': 2, 'symbol': 7, 'ch': -11.35, 'chp': -1.3183}\n",
      "Error: 'int' object is not iterable\n",
      "Response: {'ltp': 1000.65, 'vol_traded_today': 8004845, 'last_traded_time': 1720591146, 'exch_feed_time': 1720591147, 'bid_size': 6, 'ask_size': 28, 'bid_price': 1000.65, 'ask_price': 1000.9, 'last_traded_qty': 6, 'tot_buy_qty': 545650, 'tot_sell_qty': 1515528, 'avg_trade_price': 1007.63, 'low_price': 986.05, 'high_price': 1019.85, 'lower_ckt': 0, 'upper_ckt': 0, 'open_price': 1015.0, 'prev_close_price': 1014.95, 'type': 1, 'symbol': 2, 'ch': -14.3, 'chp': -1.4089}\n",
      "Error: 'int' object is not iterable\n",
      "Response: {'bid_price1': 849.6, 'bid_price2': 849.55, 'bid_price3': 849.5, 'bid_price4': 849.45, 'bid_price5': 849.4, 'ask_price1': 849.9, 'ask_price2': 849.95, 'ask_price3': 850.0, 'ask_price4': 850.05, 'ask_price5': 850.1, 'bid_size1': 44, 'bid_size2': 357, 'bid_size3': 669, 'bid_size4': 232, 'bid_size5': 805, 'ask_size1': 101, 'ask_size2': 844, 'ask_size3': 7101, 'ask_size4': 1700, 'ask_size5': 1218, 'bid_order1': 1, 'bid_order2': 5, 'bid_order3': 6, 'bid_order4': 5, 'bid_order5': 15, 'ask_order1': 2, 'ask_order2': 13, 'ask_order3': 34, 'ask_order4': 6, 'ask_order5': 10, 'type': 'dp', 'symbol': 'NSE:SBIN-EQ'}\n",
      "Response: {'ltp': 849.6, 'vol_traded_today': 293885, 'last_traded_time': 1720591140, 'exch_feed_time': 1720591147, 'bid_size': 117, 'ask_size': 16, 'bid_price': 849.55, 'ask_price': 849.95, 'last_traded_qty': 1, 'tot_buy_qty': 132116, 'tot_sell_qty': 157836, 'avg_trade_price': 850.56, 'low_price': 843.3, 'high_price': 861.0, 'lower_ckt': 0, 'upper_ckt': 0, 'open_price': 861.0, 'prev_close_price': 860.95, 'type': 2, 'symbol': 7, 'ch': -11.35, 'chp': -1.3183}\n",
      "Error: 'int' object is not iterable\n",
      "Response: {'bid_price1': 849.55, 'bid_price2': 849.5, 'bid_price3': 849.45, 'bid_price4': 849.4, 'bid_price5': 849.35, 'ask_price1': 849.95, 'ask_price2': 850.0, 'ask_price3': 850.05, 'ask_price4': 850.1, 'ask_price5': 850.15, 'bid_size1': 117, 'bid_size2': 399, 'bid_size3': 278, 'bid_size4': 392, 'bid_size5': 242, 'ask_size1': 16, 'ask_size2': 228, 'ask_size3': 309, 'ask_size4': 271, 'ask_size5': 279, 'bid_order1': 1, 'bid_order2': 5, 'bid_order3': 6, 'bid_order4': 4, 'bid_order5': 2, 'ask_order1': 1, 'ask_order2': 4, 'ask_order3': 3, 'ask_order4': 3, 'ask_order5': 3, 'type': 'dp', 'symbol': 'BSE:SBIN-A'}\n",
      "Response: {'ltp': 1000.5, 'vol_traded_today': 8004916, 'last_traded_time': 1720591147, 'exch_feed_time': 1720591147, 'bid_size': 95, 'ask_size': 24, 'bid_price': 1000.5, 'ask_price': 1000.55, 'last_traded_qty': 20, 'tot_buy_qty': 544009, 'tot_sell_qty': 1517934, 'avg_trade_price': 1007.63, 'low_price': 986.05, 'high_price': 1019.85, 'lower_ckt': 0, 'upper_ckt': 0, 'open_price': 1015.0, 'prev_close_price': 1014.95, 'type': 1, 'symbol': 1, 'ch': -14.45, 'chp': -1.4237}\n",
      "Error: 'int' object is not iterable\n",
      "Response: {'bid_price1': 1000.5, 'bid_price2': 1000.4, 'bid_price3': 1000.35, 'bid_price4': 1000.3, 'bid_price5': 1000.25, 'ask_price1': 1000.55, 'ask_price2': 1000.6, 'ask_price3': 1000.65, 'ask_price4': 1000.75, 'ask_price5': 1000.85, 'bid_size1': 95, 'bid_size2': 10, 'bid_size3': 118, 'bid_size4': 51, 'bid_size5': 269, 'ask_size1': 24, 'ask_size2': 77, 'ask_size3': 2, 'ask_size4': 346, 'ask_size5': 695, 'bid_order1': 2, 'bid_order2': 1, 'bid_order3': 1, 'bid_order4': 1, 'bid_order5': 6, 'ask_order1': 1, 'ask_order2': 2, 'ask_order3': 1, 'ask_order4': 2, 'ask_order5': 5, 'type': 'dp', 'symbol': 'NSE:TATAMOTORS-EQ'}\n",
      "Response: {'ltp': 849.6, 'vol_traded_today': 293885, 'last_traded_time': 1720591140, 'exch_feed_time': 1720591147, 'bid_size': 138, 'ask_size': 208, 'bid_price': 849.5, 'ask_price': 849.95, 'last_traded_qty': 1, 'tot_buy_qty': 132239, 'tot_sell_qty': 157568, 'avg_trade_price': 850.56, 'low_price': 843.3, 'high_price': 861.0, 'lower_ckt': 0, 'upper_ckt': 0, 'open_price': 861.0, 'prev_close_price': 860.95, 'type': 4, 'symbol': 4, 'ch': -11.35, 'chp': -1.3183}\n",
      "Error: 'int' object is not iterable\n",
      "Response: {'bid_price1': 849.5, 'bid_price2': 849.45, 'bid_price3': 849.4, 'bid_price4': 849.35, 'bid_price5': 849.3, 'ask_price1': 849.95, 'ask_price2': 850.0, 'ask_price3': 850.05, 'ask_price4': 850.1, 'ask_price5': 850.15, 'bid_size1': 138, 'bid_size2': 125, 'bid_size3': 392, 'bid_size4': 247, 'bid_size5': 306, 'ask_size1': 208, 'ask_size2': 228, 'ask_size3': 247, 'ask_size4': 271, 'ask_size5': 279, 'bid_order1': 3, 'bid_order2': 4, 'bid_order3': 4, 'bid_order4': 3, 'bid_order5': 4, 'ask_order1': 3, 'ask_order2': 4, 'ask_order3': 5, 'ask_order4': 3, 'ask_order5': 3, 'type': 'dp', 'symbol': 'BSE:SBIN-A'}\n",
      "Response: {'ltp': 1000.8, 'vol_traded_today': 8004916, 'last_traded_time': 1720591147, 'exch_feed_time': 1720591148, 'bid_size': 95, 'ask_size': 24, 'bid_price': 1000.5, 'ask_price': 1000.55, 'last_traded_qty': 9, 'tot_buy_qty': 544009, 'tot_sell_qty': 1517934, 'avg_trade_price': 1007.63, 'low_price': 986.05, 'high_price': 1019.85, 'lower_ckt': 0, 'upper_ckt': 0, 'open_price': 1015.0, 'prev_close_price': 1014.95, 'type': 1, 'symbol': 1, 'ch': -14.15, 'chp': -1.3942}\n",
      "Error: 'int' object is not iterable\n",
      "Response: {'bid_price1': 849.55, 'bid_price2': 849.5, 'bid_price3': 849.45, 'bid_price4': 849.4, 'bid_price5': 849.35, 'ask_price1': 849.7, 'ask_price2': 849.85, 'ask_price3': 849.9, 'ask_price4': 849.95, 'ask_price5': 850.0, 'bid_size1': 159, 'bid_size2': 737, 'bid_size3': 236, 'bid_size4': 674, 'bid_size5': 405, 'ask_size1': 19, 'ask_size2': 176, 'ask_size3': 433, 'ask_size4': 812, 'ask_size5': 7094, 'bid_order1': 1, 'bid_order2': 7, 'bid_order3': 5, 'bid_order4': 14, 'bid_order5': 7, 'ask_order1': 1, 'ask_order2': 2, 'ask_order3': 4, 'ask_order4': 12, 'ask_order5': 34, 'type': 'dp', 'symbol': 'NSE:SBIN-EQ'}\n"
     ]
    }
   ],
   "source": [
    "symbol.unsubscribe()"
   ]
  },
  {
   "cell_type": "code",
   "execution_count": 43,
   "metadata": {},
   "outputs": [
    {
     "name": "stdout",
     "output_type": "stream",
     "text": [
      "Response: {'bid_price1': 849.8, 'bid_price2': 849.75, 'bid_price3': 849.7, 'bid_price4': 849.65, 'bid_price5': 849.6, 'ask_price1': 850.0, 'ask_price2': 850.1, 'ask_price3': 850.15, 'ask_price4': 850.2, 'ask_price5': 850.25, 'bid_size1': 91, 'bid_size2': 169, 'bid_size3': 337, 'bid_size4': 403, 'bid_size5': 692, 'ask_size1': 4907, 'ask_size2': 155, 'ask_size3': 378, 'ask_size4': 547, 'ask_size5': 699, 'bid_order1': 1, 'bid_order2': 4, 'bid_order3': 2, 'bid_order4': 7, 'bid_order5': 11, 'ask_order1': 28, 'ask_order2': 2, 'ask_order3': 3, 'ask_order4': 7, 'ask_order5': 7, 'type': 'dp', 'symbol': 'NSE:SBIN-EQ'}\n"
     ]
    },
    {
     "name": "stdout",
     "output_type": "stream",
     "text": [
      "Response: {'ltp': 1001.15, 'vol_traded_today': 8014635, 'last_traded_time': 1720591167, 'exch_feed_time': 1720591168, 'bid_size': 56, 'ask_size': 265, 'bid_price': 1000.9, 'ask_price': 1001.15, 'last_traded_qty': 1, 'tot_buy_qty': 536965, 'tot_sell_qty': 1512645, 'avg_trade_price': 1007.62, 'low_price': 986.05, 'high_price': 1019.85, 'lower_ckt': 0, 'upper_ckt': 0, 'open_price': 1015.0, 'prev_close_price': 1014.95, 'type': 3, 'symbol': 6, 'ch': -13.8, 'chp': -1.3597}\n",
      "Error: 'int' object is not iterable\n",
      "Response: {'ltp': 1000.95, 'vol_traded_today': 8014673, 'last_traded_time': 1720591168, 'exch_feed_time': 1720591168, 'bid_size': 36, 'ask_size': 160, 'bid_price': 1000.95, 'ask_price': 1001.1, 'last_traded_qty': 21, 'tot_buy_qty': 544569, 'tot_sell_qty': 1512560, 'avg_trade_price': 1007.62, 'low_price': 986.05, 'high_price': 1019.85, 'lower_ckt': 0, 'upper_ckt': 0, 'open_price': 1015.0, 'prev_close_price': 1014.95, 'type': 4, 'symbol': 5, 'ch': -14.0, 'chp': -1.3794}\n",
      "Error: 'int' object is not iterable\n",
      "Response: {'bid_price1': 849.8, 'bid_price2': 849.75, 'bid_price3': 849.7, 'bid_price4': 849.65, 'bid_price5': 849.6, 'ask_price1': 850.0, 'ask_price2': 850.2, 'ask_price3': 850.25, 'ask_price4': 850.3, 'ask_price5': 850.35, 'bid_size1': 6, 'bid_size2': 128, 'bid_size3': 343, 'bid_size4': 627, 'bid_size5': 276, 'ask_size1': 25, 'ask_size2': 117, 'ask_size3': 248, 'ask_size4': 241, 'ask_size5': 177, 'bid_order1': 1, 'bid_order2': 1, 'bid_order3': 3, 'bid_order4': 9, 'bid_order5': 3, 'ask_order1': 1, 'ask_order2': 1, 'ask_order3': 6, 'ask_order4': 3, 'ask_order5': 3, 'type': 'dp', 'symbol': 'BSE:SBIN-A'}\n",
      "Response: {'bid_price1': 1000.95, 'bid_price2': 1000.9, 'bid_price3': 1000.85, 'bid_price4': 1000.8, 'bid_price5': 1000.75, 'ask_price1': 1001.1, 'ask_price2': 1001.15, 'ask_price3': 1001.25, 'ask_price4': 1001.45, 'ask_price5': 1001.5, 'bid_size1': 36, 'bid_size2': 126, 'bid_size3': 312, 'bid_size4': 286, 'bid_size5': 167, 'ask_size1': 160, 'ask_size2': 264, 'ask_size3': 951, 'ask_size4': 71, 'ask_size5': 206, 'bid_order1': 2, 'bid_order2': 4, 'bid_order3': 5, 'bid_order4': 7, 'bid_order5': 5, 'ask_order1': 1, 'ask_order2': 3, 'ask_order3': 1, 'ask_order4': 2, 'ask_order5': 3, 'type': 'dp', 'symbol': 'NSE:TATAMOTORS-EQ'}\n",
      "Response: {'ltp': 849.8, 'vol_traded_today': 293893, 'last_traded_time': 1720591168, 'exch_feed_time': 1720591168, 'bid_size': 6, 'ask_size': 25, 'bid_price': 849.8, 'ask_price': 850.0, 'last_traded_qty': 1, 'tot_buy_qty': 133096, 'tot_sell_qty': 154576, 'avg_trade_price': 850.56, 'low_price': 843.3, 'high_price': 861.0, 'lower_ckt': 0, 'upper_ckt': 0, 'open_price': 861.0, 'prev_close_price': 860.95, 'type': 1, 'symbol': 3, 'ch': -11.15, 'chp': -1.2951}\n",
      "Error: 'int' object is not iterable\n",
      "Response: {'bid_price1': 849.75, 'bid_price2': 849.7, 'bid_price3': 849.65, 'bid_price4': 849.6, 'bid_price5': 849.55, 'ask_price1': 850.0, 'ask_price2': 850.1, 'ask_price3': 850.15, 'ask_price4': 850.2, 'ask_price5': 850.25, 'bid_size1': 139, 'bid_size2': 337, 'bid_size3': 403, 'bid_size4': 692, 'bid_size5': 1008, 'ask_size1': 4906, 'ask_size2': 155, 'ask_size3': 378, 'ask_size4': 547, 'ask_size5': 699, 'bid_order1': 4, 'bid_order2': 2, 'bid_order3': 7, 'bid_order4': 11, 'bid_order5': 7, 'ask_order1': 28, 'ask_order2': 2, 'ask_order3': 3, 'ask_order4': 7, 'ask_order5': 7, 'type': 'dp', 'symbol': 'NSE:SBIN-EQ'}\n",
      "Response: {'ltp': 1001.0, 'vol_traded_today': 8014673, 'last_traded_time': 1720591168, 'exch_feed_time': 1720591169, 'bid_size': 36, 'ask_size': 160, 'bid_price': 1000.95, 'ask_price': 1001.1, 'last_traded_qty': 3, 'tot_buy_qty': 544569, 'tot_sell_qty': 1512560, 'avg_trade_price': 1007.62, 'low_price': 986.05, 'high_price': 1019.85, 'lower_ckt': 0, 'upper_ckt': 0, 'open_price': 1015.0, 'prev_close_price': 1014.95, 'type': 4, 'symbol': 5, 'ch': -13.95, 'chp': -1.3745}\n",
      "Error: 'int' object is not iterable\n",
      "Response: {'ltp': 849.8, 'vol_traded_today': 293893, 'last_traded_time': 1720591168, 'exch_feed_time': 1720591168, 'bid_size': 134, 'ask_size': 25, 'bid_price': 849.75, 'ask_price': 850.0, 'last_traded_qty': 1, 'tot_buy_qty': 133330, 'tot_sell_qty': 154876, 'avg_trade_price': 850.56, 'low_price': 843.3, 'high_price': 861.0, 'lower_ckt': 0, 'upper_ckt': 0, 'open_price': 861.0, 'prev_close_price': 860.95, 'type': 1, 'symbol': 3, 'ch': -11.15, 'chp': -1.2951}\n",
      "Error: 'int' object is not iterable\n",
      "Response: {'bid_price1': 849.75, 'bid_price2': 849.7, 'bid_price3': 849.65, 'bid_price4': 849.6, 'bid_price5': 849.55, 'ask_price1': 850.0, 'ask_price2': 850.2, 'ask_price3': 850.25, 'ask_price4': 850.3, 'ask_price5': 850.35, 'bid_size1': 134, 'bid_size2': 343, 'bid_size3': 517, 'bid_size4': 276, 'bid_size5': 98, 'ask_size1': 25, 'ask_size2': 117, 'ask_size3': 248, 'ask_size4': 241, 'ask_size5': 161, 'bid_order1': 2, 'bid_order2': 3, 'bid_order3': 8, 'bid_order4': 3, 'bid_order5': 1, 'ask_order1': 1, 'ask_order2': 1, 'ask_order3': 6, 'ask_order4': 3, 'ask_order5': 2, 'type': 'dp', 'symbol': 'BSE:SBIN-A'}\n",
      "Response: {'ltp': 1001.1, 'vol_traded_today': 8014697, 'last_traded_time': 1720591169, 'exch_feed_time': 1720591169, 'bid_size': 70, 'ask_size': 140, 'bid_price': 1000.95, 'ask_price': 1001.1, 'last_traded_qty': 20, 'tot_buy_qty': 545047, 'tot_sell_qty': 1505070, 'avg_trade_price': 1007.62, 'low_price': 986.05, 'high_price': 1019.85, 'lower_ckt': 0, 'upper_ckt': 0, 'open_price': 1015.0, 'prev_close_price': 1014.95, 'type': 4, 'symbol': 5, 'ch': -13.85, 'chp': -1.3646}\n",
      "Error: 'int' object is not iterable\n",
      "Response: {'bid_price1': 849.9, 'bid_price2': 849.75, 'bid_price3': 849.7, 'bid_price4': 849.65, 'bid_price5': 849.6, 'ask_price1': 850.0, 'ask_price2': 850.1, 'ask_price3': 850.15, 'ask_price4': 850.2, 'ask_price5': 850.25, 'bid_size1': 1, 'bid_size2': 139, 'bid_size3': 337, 'bid_size4': 403, 'bid_size5': 692, 'ask_size1': 4786, 'ask_size2': 155, 'ask_size3': 769, 'ask_size4': 359, 'ask_size5': 699, 'bid_order1': 1, 'bid_order2': 4, 'bid_order3': 2, 'bid_order4': 7, 'bid_order5': 11, 'ask_order1': 26, 'ask_order2': 2, 'ask_order3': 7, 'ask_order4': 6, 'ask_order5': 7, 'type': 'dp', 'symbol': 'NSE:SBIN-EQ'}\n",
      "Response: {'bid_price1': 1000.95, 'bid_price2': 1000.9, 'bid_price3': 1000.85, 'bid_price4': 1000.8, 'bid_price5': 1000.75, 'ask_price1': 1001.1, 'ask_price2': 1001.15, 'ask_price3': 1001.25, 'ask_price4': 1001.35, 'ask_price5': 1001.4, 'bid_size1': 70, 'bid_size2': 56, 'bid_size3': 232, 'bid_size4': 243, 'bid_size5': 167, 'ask_size1': 140, 'ask_size2': 264, 'ask_size3': 951, 'ask_size4': 42, 'ask_size5': 70, 'bid_order1': 1, 'bid_order2': 3, 'bid_order3': 4, 'bid_order4': 5, 'bid_order5': 5, 'ask_order1': 1, 'ask_order2': 3, 'ask_order3': 1, 'ask_order4': 2, 'ask_order5': 1, 'type': 'dp', 'symbol': 'NSE:TATAMOTORS-EQ'}\n",
      "Response: {'ltp': 849.8, 'vol_traded_today': 293893, 'last_traded_time': 1720591168, 'exch_feed_time': 1720591168, 'bid_size': 134, 'ask_size': 25, 'bid_price': 849.75, 'ask_price': 850.0, 'last_traded_qty': 1, 'tot_buy_qty': 133030, 'tot_sell_qty': 154395, 'avg_trade_price': 850.56, 'low_price': 843.3, 'high_price': 861.0, 'lower_ckt': 0, 'upper_ckt': 0, 'open_price': 861.0, 'prev_close_price': 860.95, 'type': 3, 'symbol': 8, 'ch': -11.15, 'chp': -1.2951}\n",
      "Error: 'int' object is not iterable\n",
      "Response: {'ltp': 1001.1, 'vol_traded_today': 8014697, 'last_traded_time': 1720591169, 'exch_feed_time': 1720591170, 'bid_size': 70, 'ask_size': 140, 'bid_price': 1000.95, 'ask_price': 1001.1, 'last_traded_qty': 67, 'tot_buy_qty': 545047, 'tot_sell_qty': 1505070, 'avg_trade_price': 1007.62, 'low_price': 986.05, 'high_price': 1019.85, 'lower_ckt': 0, 'upper_ckt': 0, 'open_price': 1015.0, 'prev_close_price': 1014.95, 'type': 4, 'symbol': 5, 'ch': -13.85, 'chp': -1.3646}\n",
      "Error: 'int' object is not iterable\n",
      "Response: {'ltp': 849.8, 'vol_traded_today': 293893, 'last_traded_time': 1720591168, 'exch_feed_time': 1720591172, 'bid_size': 134, 'ask_size': 25, 'bid_price': 849.75, 'ask_price': 850.0, 'last_traded_qty': 1, 'tot_buy_qty': 133330, 'tot_sell_qty': 154695, 'avg_trade_price': 850.56, 'low_price': 843.3, 'high_price': 861.0, 'lower_ckt': 0, 'upper_ckt': 0, 'open_price': 861.0, 'prev_close_price': 860.95, 'type': 3, 'symbol': 8, 'ch': -11.15, 'chp': -1.2951}\n",
      "Error: 'int' object is not iterable\n",
      "Response: {'ltp': 1001.1, 'vol_traded_today': 8014905, 'last_traded_time': 1720591170, 'exch_feed_time': 1720591170, 'bid_size': 181, 'ask_size': 264, 'bid_price': 1000.95, 'ask_price': 1001.15, 'last_traded_qty': 67, 'tot_buy_qty': 545682, 'tot_sell_qty': 1509901, 'avg_trade_price': 1007.62, 'low_price': 986.05, 'high_price': 1019.85, 'lower_ckt': 0, 'upper_ckt': 0, 'open_price': 1015.0, 'prev_close_price': 1014.95, 'type': 4, 'symbol': 5, 'ch': -13.85, 'chp': -1.3646}\n",
      "Error: 'int' object is not iterable\n",
      "Response: {'bid_price1': 849.9, 'bid_price2': 849.75, 'bid_price3': 849.7, 'bid_price4': 849.65, 'bid_price5': 849.6, 'ask_price1': 850.0, 'ask_price2': 850.1, 'ask_price3': 850.15, 'ask_price4': 850.2, 'ask_price5': 850.25, 'bid_size1': 1, 'bid_size2': 416, 'bid_size3': 337, 'bid_size4': 403, 'bid_size5': 692, 'ask_size1': 4786, 'ask_size2': 100, 'ask_size3': 526, 'ask_size4': 325, 'ask_size5': 699, 'bid_order1': 1, 'bid_order2': 8, 'bid_order3': 2, 'bid_order4': 7, 'bid_order5': 11, 'ask_order1': 26, 'ask_order2': 1, 'ask_order3': 4, 'ask_order4': 6, 'ask_order5': 7, 'type': 'dp', 'symbol': 'NSE:SBIN-EQ'}\n",
      "Response: {'bid_price1': 1000.95, 'bid_price2': 1000.9, 'bid_price3': 1000.85, 'bid_price4': 1000.8, 'bid_price5': 1000.75, 'ask_price1': 1001.15, 'ask_price2': 1001.25, 'ask_price3': 1001.45, 'ask_price4': 1001.5, 'ask_price5': 1001.55, 'bid_size1': 181, 'bid_size2': 56, 'bid_size3': 336, 'bid_size4': 126, 'bid_size5': 167, 'ask_size1': 264, 'ask_size2': 1001, 'ask_size3': 71, 'ask_size4': 151, 'ask_size5': 201, 'bid_order1': 4, 'bid_order2': 3, 'bid_order3': 7, 'bid_order4': 4, 'bid_order5': 5, 'ask_order1': 3, 'ask_order2': 2, 'ask_order3': 2, 'ask_order4': 2, 'ask_order5': 3, 'type': 'dp', 'symbol': 'NSE:TATAMOTORS-EQ'}\n",
      "Response: {'ltp': 849.8, 'vol_traded_today': 293893, 'last_traded_time': 1720591168, 'exch_feed_time': 1720591173, 'bid_size': 134, 'ask_size': 25, 'bid_price': 849.75, 'ask_price': 850.0, 'last_traded_qty': 1, 'tot_buy_qty': 129239, 'tot_sell_qty': 151770, 'avg_trade_price': 850.56, 'low_price': 843.3, 'high_price': 861.0, 'lower_ckt': 0, 'upper_ckt': 0, 'open_price': 861.0, 'prev_close_price': 860.95, 'type': 3, 'symbol': 8, 'ch': -11.15, 'chp': -1.2951}\n",
      "Error: 'int' object is not iterable\n",
      "Response: {'bid_price1': 849.75, 'bid_price2': 849.7, 'bid_price3': 849.65, 'bid_price4': 849.6, 'bid_price5': 849.55, 'ask_price1': 850.0, 'ask_price2': 850.2, 'ask_price3': 850.25, 'ask_price4': 850.3, 'ask_price5': 850.35, 'bid_size1': 134, 'bid_size2': 343, 'bid_size3': 320, 'bid_size4': 276, 'bid_size5': 98, 'ask_size1': 25, 'ask_size2': 117, 'ask_size3': 248, 'ask_size4': 241, 'ask_size5': 161, 'bid_order1': 2, 'bid_order2': 3, 'bid_order3': 7, 'bid_order4': 3, 'bid_order5': 1, 'ask_order1': 1, 'ask_order2': 1, 'ask_order3': 6, 'ask_order4': 3, 'ask_order5': 2, 'type': 'dp', 'symbol': 'BSE:SBIN-A'}\n",
      "Response: {'ltp': 1001.15, 'vol_traded_today': 8014905, 'last_traded_time': 1720591170, 'exch_feed_time': 1720591171, 'bid_size': 181, 'ask_size': 264, 'bid_price': 1000.95, 'ask_price': 1001.15, 'last_traded_qty': 1, 'tot_buy_qty': 545682, 'tot_sell_qty': 1509901, 'avg_trade_price': 1007.62, 'low_price': 986.05, 'high_price': 1019.85, 'lower_ckt': 0, 'upper_ckt': 0, 'open_price': 1015.0, 'prev_close_price': 1014.95, 'type': 4, 'symbol': 5, 'ch': -13.8, 'chp': -1.3597}\n",
      "Error: 'int' object is not iterable\n",
      "Response: {'ltp': 849.8, 'vol_traded_today': 293893, 'last_traded_time': 1720591168, 'exch_feed_time': 1720591173, 'bid_size': 134, 'ask_size': 25, 'bid_price': 849.8, 'ask_price': 850.0, 'last_traded_qty': 1, 'tot_buy_qty': 132939, 'tot_sell_qty': 154600, 'avg_trade_price': 850.56, 'low_price': 843.3, 'high_price': 861.0, 'lower_ckt': 0, 'upper_ckt': 0, 'open_price': 861.0, 'prev_close_price': 860.95, 'type': 3, 'symbol': 7, 'ch': -11.15, 'chp': -1.2951}\n",
      "Error: 'int' object is not iterable\n",
      "Response: {'bid_price1': 849.8, 'bid_price2': 849.75, 'bid_price3': 849.7, 'bid_price4': 849.65, 'bid_price5': 849.6, 'ask_price1': 850.0, 'ask_price2': 850.2, 'ask_price3': 850.25, 'ask_price4': 850.3, 'ask_price5': 850.35, 'bid_size1': 134, 'bid_size2': 214, 'bid_size3': 215, 'bid_size4': 658, 'bid_size5': 286, 'ask_size1': 25, 'ask_size2': 117, 'ask_size3': 184, 'ask_size4': 215, 'ask_size5': 98, 'bid_order1': 2, 'bid_order2': 2, 'bid_order3': 2, 'bid_order4': 9, 'bid_order5': 4, 'ask_order1': 1, 'ask_order2': 1, 'ask_order3': 5, 'ask_order4': 2, 'ask_order5': 1, 'type': 'dp', 'symbol': 'BSE:SBIN-A'}\n",
      "Response: {'bid_price1': 849.9, 'bid_price2': 849.85, 'bid_price3': 849.8, 'bid_price4': 849.75, 'bid_price5': 849.7, 'ask_price1': 850.0, 'ask_price2': 850.1, 'ask_price3': 850.15, 'ask_price4': 850.2, 'ask_price5': 850.25, 'bid_size1': 1605, 'bid_size2': 505, 'bid_size3': 449, 'bid_size4': 493, 'bid_size5': 1162, 'ask_size1': 4780, 'ask_size2': 100, 'ask_size3': 5, 'ask_size4': 393, 'ask_size5': 101, 'bid_order1': 4, 'bid_order2': 6, 'bid_order3': 3, 'bid_order4': 10, 'bid_order5': 8, 'ask_order1': 26, 'ask_order2': 1, 'ask_order3': 1, 'ask_order4': 3, 'ask_order5': 3, 'type': 'dp', 'symbol': 'NSE:SBIN-EQ'}\n",
      "Response: {'ltp': 1000.95, 'vol_traded_today': 8015067, 'last_traded_time': 1720591172, 'exch_feed_time': 1720591172, 'bid_size': 395, 'ask_size': 259, 'bid_price': 1000.95, 'ask_price': 1001.15, 'last_traded_qty': 46, 'tot_buy_qty': 545977, 'tot_sell_qty': 1512752, 'avg_trade_price': 1007.62, 'low_price': 986.05, 'high_price': 1019.85, 'lower_ckt': 0, 'upper_ckt': 0, 'open_price': 1015.0, 'prev_close_price': 1014.95, 'type': 4, 'symbol': 5, 'ch': -14.0, 'chp': -1.3794}\n",
      "Error: 'int' object is not iterable\n",
      "Response: {'bid_price1': 1000.95, 'bid_price2': 1000.9, 'bid_price3': 1000.85, 'bid_price4': 1000.8, 'bid_price5': 1000.75, 'ask_price1': 1001.15, 'ask_price2': 1001.25, 'ask_price3': 1001.45, 'ask_price4': 1001.5, 'ask_price5': 1001.55, 'bid_size1': 395, 'bid_size2': 183, 'bid_size3': 250, 'bid_size4': 206, 'bid_size5': 167, 'ask_size1': 259, 'ask_size2': 1001, 'ask_size3': 71, 'ask_size4': 214, 'ask_size5': 257, 'bid_order1': 6, 'bid_order2': 5, 'bid_order3': 6, 'bid_order4': 5, 'bid_order5': 5, 'ask_order1': 2, 'ask_order2': 2, 'ask_order3': 2, 'ask_order4': 3, 'ask_order5': 4, 'type': 'dp', 'symbol': 'NSE:TATAMOTORS-EQ'}\n",
      "Response: {'ltp': 1001.15, 'vol_traded_today': 8015067, 'last_traded_time': 1720591172, 'exch_feed_time': 1720591172, 'bid_size': 395, 'ask_size': 259, 'bid_price': 1000.95, 'ask_price': 1001.15, 'last_traded_qty': 1, 'tot_buy_qty': 545977, 'tot_sell_qty': 1512752, 'avg_trade_price': 1007.62, 'low_price': 986.05, 'high_price': 1019.85, 'lower_ckt': 0, 'upper_ckt': 0, 'open_price': 1015.0, 'prev_close_price': 1014.95, 'type': 5, 'symbol': 6, 'ch': -13.8, 'chp': -1.3597}\n",
      "Error: 'int' object is not iterable\n",
      "Response: {'ltp': 849.8, 'vol_traded_today': 293893, 'last_traded_time': 1720591168, 'exch_feed_time': 1720591173, 'bid_size': 134, 'ask_size': 25, 'bid_price': 849.8, 'ask_price': 850.0, 'last_traded_qty': 1, 'tot_buy_qty': 133055, 'tot_sell_qty': 154517, 'avg_trade_price': 850.56, 'low_price': 843.3, 'high_price': 861.0, 'lower_ckt': 0, 'upper_ckt': 0, 'open_price': 861.0, 'prev_close_price': 860.95, 'type': 2, 'symbol': 2, 'ch': -11.15, 'chp': -1.2951}\n",
      "Error: 'int' object is not iterable\n",
      "Response: {'bid_price1': 849.8, 'bid_price2': 849.75, 'bid_price3': 849.7, 'bid_price4': 849.65, 'bid_price5': 849.6, 'ask_price1': 850.0, 'ask_price2': 850.2, 'ask_price3': 850.25, 'ask_price4': 850.3, 'ask_price5': 850.35, 'bid_size1': 134, 'bid_size2': 214, 'bid_size3': 215, 'bid_size4': 658, 'bid_size5': 286, 'ask_size1': 25, 'ask_size2': 117, 'ask_size3': 101, 'ask_size4': 215, 'ask_size5': 98, 'bid_order1': 2, 'bid_order2': 2, 'bid_order3': 2, 'bid_order4': 9, 'bid_order5': 4, 'ask_order1': 1, 'ask_order2': 1, 'ask_order3': 4, 'ask_order4': 2, 'ask_order5': 1, 'type': 'dp', 'symbol': 'BSE:SBIN-A'}\n",
      "Response: {'ltp': 849.8, 'vol_traded_today': 293893, 'last_traded_time': 1720591168, 'exch_feed_time': 1720591173, 'bid_size': 134, 'ask_size': 25, 'bid_price': 849.8, 'ask_price': 850.0, 'last_traded_qty': 1, 'tot_buy_qty': 138747, 'tot_sell_qty': 154504, 'avg_trade_price': 850.56, 'low_price': 843.3, 'high_price': 861.0, 'lower_ckt': 0, 'upper_ckt': 0, 'open_price': 861.0, 'prev_close_price': 860.95, 'type': 2, 'symbol': 2, 'ch': -11.15, 'chp': -1.2951}\n",
      "Error: 'int' object is not iterable\n",
      "Response: {'bid_price1': 849.9, 'bid_price2': 849.85, 'bid_price3': 849.8, 'bid_price4': 849.75, 'bid_price5': 849.7, 'ask_price1': 850.0, 'ask_price2': 850.1, 'ask_price3': 850.15, 'ask_price4': 850.2, 'ask_price5': 850.25, 'bid_size1': 1222, 'bid_size2': 120, 'bid_size3': 228, 'bid_size4': 393, 'bid_size5': 1114, 'ask_size1': 4737, 'ask_size2': 100, 'ask_size3': 25, 'ask_size4': 393, 'ask_size5': 101, 'bid_order1': 2, 'bid_order2': 2, 'bid_order3': 1, 'bid_order4': 8, 'bid_order5': 8, 'ask_order1': 26, 'ask_order2': 1, 'ask_order3': 2, 'ask_order4': 3, 'ask_order5': 3, 'type': 'dp', 'symbol': 'NSE:SBIN-EQ'}\n",
      "Response: {'bid_price1': 849.8, 'bid_price2': 849.75, 'bid_price3': 849.7, 'bid_price4': 849.65, 'bid_price5': 849.6, 'ask_price1': 850.0, 'ask_price2': 850.2, 'ask_price3': 850.25, 'ask_price4': 850.3, 'ask_price5': 850.35, 'bid_size1': 134, 'bid_size2': 214, 'bid_size3': 215, 'bid_size4': 658, 'bid_size5': 276, 'ask_size1': 25, 'ask_size2': 117, 'ask_size3': 165, 'ask_size4': 215, 'ask_size5': 157, 'bid_order1': 2, 'bid_order2': 2, 'bid_order3': 2, 'bid_order4': 9, 'bid_order5': 3, 'ask_order1': 1, 'ask_order2': 1, 'ask_order3': 5, 'ask_order4': 2, 'ask_order5': 2, 'type': 'dp', 'symbol': 'BSE:SBIN-A'}\n",
      "Response: {'ltp': 1001.15, 'vol_traded_today': 8015074, 'last_traded_time': 1720591172, 'exch_feed_time': 1720591173, 'bid_size': 409, 'ask_size': 252, 'bid_price': 1000.95, 'ask_price': 1001.15, 'last_traded_qty': 1, 'tot_buy_qty': 546134, 'tot_sell_qty': 1512794, 'avg_trade_price': 1007.62, 'low_price': 986.05, 'high_price': 1019.85, 'lower_ckt': 0, 'upper_ckt': 0, 'open_price': 1015.0, 'prev_close_price': 1014.95, 'type': 5, 'symbol': 5, 'ch': -13.8, 'chp': -1.3597}\n",
      "Error: 'int' object is not iterable\n",
      "Response: {'bid_price1': 1000.95, 'bid_price2': 1000.9, 'bid_price3': 1000.85, 'bid_price4': 1000.8, 'bid_price5': 1000.75, 'ask_price1': 1001.15, 'ask_price2': 1001.25, 'ask_price3': 1001.45, 'ask_price4': 1001.5, 'ask_price5': 1001.55, 'bid_size1': 409, 'bid_size2': 169, 'bid_size3': 234, 'bid_size4': 309, 'bid_size5': 183, 'ask_size1': 252, 'ask_size2': 1001, 'ask_size3': 71, 'ask_size4': 214, 'ask_size5': 257, 'bid_order1': 6, 'bid_order2': 5, 'bid_order3': 5, 'bid_order4': 6, 'bid_order5': 6, 'ask_order1': 2, 'ask_order2': 2, 'ask_order3': 2, 'ask_order4': 3, 'ask_order5': 4, 'type': 'dp', 'symbol': 'NSE:TATAMOTORS-EQ'}\n",
      "Response: {'ltp': 849.8, 'vol_traded_today': 293893, 'last_traded_time': 1720591168, 'exch_feed_time': 1720591173, 'bid_size': 6, 'ask_size': 75, 'bid_price': 849.85, 'ask_price': 850.0, 'last_traded_qty': 1, 'tot_buy_qty': 139272, 'tot_sell_qty': 150262, 'avg_trade_price': 850.56, 'low_price': 843.3, 'high_price': 861.0, 'lower_ckt': 0, 'upper_ckt': 0, 'open_price': 861.0, 'prev_close_price': 860.95, 'type': 2, 'symbol': 2, 'ch': -11.15, 'chp': -1.2951}\n",
      "Error: 'int' object is not iterable\n",
      "Response: {'bid_price1': 849.85, 'bid_price2': 849.8, 'bid_price3': 849.75, 'bid_price4': 849.7, 'bid_price5': 849.65, 'ask_price1': 850.0, 'ask_price2': 850.2, 'ask_price3': 850.25, 'ask_price4': 850.3, 'ask_price5': 850.35, 'bid_size1': 6, 'bid_size2': 128, 'bid_size3': 214, 'bid_size4': 215, 'bid_size5': 658, 'ask_size1': 75, 'ask_size2': 117, 'ask_size3': 165, 'ask_size4': 215, 'ask_size5': 157, 'bid_order1': 1, 'bid_order2': 1, 'bid_order3': 2, 'bid_order4': 2, 'bid_order5': 9, 'ask_order1': 2, 'ask_order2': 1, 'ask_order3': 5, 'ask_order4': 2, 'ask_order5': 2, 'type': 'dp', 'symbol': 'BSE:SBIN-A'}\n",
      "Response: {'bid_price1': 849.9, 'bid_price2': 849.85, 'bid_price3': 849.8, 'bid_price4': 849.75, 'bid_price5': 849.7, 'ask_price1': 850.0, 'ask_price2': 850.1, 'ask_price3': 850.15, 'ask_price4': 850.2, 'ask_price5': 850.25, 'bid_size1': 1221, 'bid_size2': 229, 'bid_size3': 281, 'bid_size4': 616, 'bid_size5': 1216, 'ask_size1': 4690, 'ask_size2': 100, 'ask_size3': 25, 'ask_size4': 205, 'ask_size5': 101, 'bid_order1': 2, 'bid_order2': 3, 'bid_order3': 2, 'bid_order4': 13, 'bid_order5': 8, 'ask_order1': 25, 'ask_order2': 1, 'ask_order3': 2, 'ask_order4': 2, 'ask_order5': 3, 'type': 'dp', 'symbol': 'NSE:SBIN-EQ'}\n",
      "Response: {'ltp': 849.8, 'vol_traded_today': 293893, 'last_traded_time': 1720591168, 'exch_feed_time': 1720591176, 'bid_size': 6, 'ask_size': 75, 'bid_price': 849.75, 'ask_price': 850.0, 'last_traded_qty': 1, 'tot_buy_qty': 135861, 'tot_sell_qty': 154714, 'avg_trade_price': 850.56, 'low_price': 843.3, 'high_price': 861.0, 'lower_ckt': 0, 'upper_ckt': 0, 'open_price': 861.0, 'prev_close_price': 860.95, 'type': 1, 'symbol': 2, 'ch': -11.15, 'chp': -1.2951}\n",
      "Error: 'int' object is not iterable\n",
      "Response: {'ltp': 1001.15, 'vol_traded_today': 8017810, 'last_traded_time': 1720591174, 'exch_feed_time': 1720591174, 'bid_size': 15, 'ask_size': 10, 'bid_price': 1001.15, 'ask_price': 1001.5, 'last_traded_qty': 8, 'tot_buy_qty': 546321, 'tot_sell_qty': 1511921, 'avg_trade_price': 1007.61, 'low_price': 986.05, 'high_price': 1019.85, 'lower_ckt': 0, 'upper_ckt': 0, 'open_price': 1015.0, 'prev_close_price': 1014.95, 'type': 7, 'symbol': 3, 'ch': -13.8, 'chp': -1.3597}\n",
      "Error: 'int' object is not iterable\n",
      "Response: {'bid_price1': 849.75, 'bid_price2': 849.7, 'bid_price3': 849.65, 'bid_price4': 849.6, 'bid_price5': 849.55, 'ask_price1': 850.0, 'ask_price2': 850.2, 'ask_price3': 850.25, 'ask_price4': 850.3, 'ask_price5': 850.35, 'bid_size1': 6, 'bid_size2': 215, 'bid_size3': 514, 'bid_size4': 276, 'bid_size5': 98, 'ask_size1': 75, 'ask_size2': 261, 'ask_size3': 253, 'ask_size4': 215, 'ask_size5': 157, 'bid_order1': 1, 'bid_order2': 2, 'bid_order3': 8, 'bid_order4': 3, 'bid_order5': 1, 'ask_order1': 2, 'ask_order2': 3, 'ask_order3': 6, 'ask_order4': 2, 'ask_order5': 2, 'type': 'dp', 'symbol': 'BSE:SBIN-A'}\n",
      "Response: {'bid_price1': 1001.15, 'bid_price2': 1001.1, 'bid_price3': 1001.05, 'bid_price4': 1001.0, 'bid_price5': 1000.95, 'ask_price1': 1001.5, 'ask_price2': 1001.55, 'ask_price3': 1001.6, 'ask_price4': 1001.65, 'ask_price5': 1001.7, 'bid_size1': 15, 'bid_size2': 204, 'bid_size3': 68, 'bid_size4': 390, 'bid_size5': 597, 'ask_size1': 10, 'ask_size2': 58, 'ask_size3': 39, 'ask_size4': 294, 'ask_size5': 334, 'bid_order1': 1, 'bid_order2': 7, 'bid_order3': 3, 'bid_order4': 8, 'bid_order5': 10, 'ask_order1': 1, 'ask_order2': 1, 'ask_order3': 2, 'ask_order4': 5, 'ask_order5': 5, 'type': 'dp', 'symbol': 'NSE:TATAMOTORS-EQ'}\n",
      "Response: {'ltp': 1001.15, 'vol_traded_today': 8017810, 'last_traded_time': 1720591174, 'exch_feed_time': 1720591174, 'bid_size': 15, 'ask_size': 10, 'bid_price': 1001.15, 'ask_price': 1001.5, 'last_traded_qty': 24, 'tot_buy_qty': 546321, 'tot_sell_qty': 1511921, 'avg_trade_price': 1007.61, 'low_price': 986.05, 'high_price': 1019.85, 'lower_ckt': 0, 'upper_ckt': 0, 'open_price': 1015.0, 'prev_close_price': 1014.95, 'type': 7, 'symbol': 3, 'ch': -13.8, 'chp': -1.3597}\n",
      "Error: 'int' object is not iterable\n"
     ]
    }
   ],
   "source": [
    "depth.unsubscribe()"
   ]
  },
  {
   "cell_type": "code",
   "execution_count": 19,
   "metadata": {},
   "outputs": [
    {
     "data": {
      "text/plain": [
       "'eyJ0eXAiOiJKV1QiLCJhbGciOiJIUzI1NiJ9.eyJpc3MiOiJhcGkuZnllcnMuaW4iLCJpYXQiOjE3MjA1ODgzNjcsImV4cCI6MTcyMDY1Nzg0NywibmJmIjoxNzIwNTg4MzY3LCJhdWQiOlsieDowIiwieDoxIiwieDoyIiwiZDoxIiwiZDoyIiwieDoxIiwieDowIl0sInN1YiI6ImFjY2Vzc190b2tlbiIsImF0X2hhc2giOiJnQUFBQUFCbWpoaFB6QWFUMTFhS1g2V3FRVG1QS0JrblZvZDc0WDJnWkVia3pZWU5VN3lJN04wR1hNenZEU0x2bUtRZlVvVjJVdV81NXFnOHllUXdxV0FMa3lKQ1UzNnJjU003ZHcxMksxblFWRkd5TlUtbl9mMD0iLCJkaXNwbGF5X25hbWUiOiJNQUxMRVBBTExJIEdBSlVMQSBHVVJVIFNBSSBQUkFTQUQiLCJvbXMiOiJLMSIsImhzbV9rZXkiOiJjY2Q4NDkwZGNkYTc2OTU0Njk3YmE4Y2JkN2YxMGI5MWNjMTU1YmI2ODA5OGRkZjUxYjk0NTg5ZiIsImZ5X2lkIjoiWU0wODkyNyIsImFwcFR5cGUiOjEwMCwicG9hX2ZsYWciOiJOIn0.fv0tCk60rG6AAPRfvUqyE6hyREDkfroGclHo2kaGyHE'"
      ]
     },
     "execution_count": 19,
     "metadata": {},
     "output_type": "execute_result"
    }
   ],
   "source": [
    "depth_access"
   ]
  },
  {
   "cell_type": "code",
   "execution_count": 20,
   "metadata": {},
   "outputs": [
    {
     "data": {
      "text/plain": [
       "'eyJ0eXAiOiJKV1QiLCJhbGciOiJIUzI1NiJ9.eyJpc3MiOiJhcGkuZnllcnMuaW4iLCJpYXQiOjE3MjA1ODgzNTIsImV4cCI6MTcyMDY1NzgzMiwibmJmIjoxNzIwNTg4MzUyLCJhdWQiOlsiZDoxIiwiZDoyIl0sInN1YiI6ImFjY2Vzc190b2tlbiIsImF0X2hhc2giOiJnQUFBQUFCbWpoaEFKamZJWXhKY1ZUWGUtWnh3VWVoTjJpdk4ya0ctbWJmZGFpeGE0Unl2ajlnT3lFR3RwZUxyWTlFaUZlLWl2WmxOZ1RabmhVMnRSaXYtaDBBa00ySmhNSmtNR0tDdWZrOGN4emJTQVF0aWpEUT0iLCJkaXNwbGF5X25hbWUiOiJNQUxMRVBBTExJIEdBSlVMQSBHVVJVIFNBSSBQUkFTQUQiLCJvbXMiOiJLMSIsImhzbV9rZXkiOiJjY2Q4NDkwZGNkYTc2OTU0Njk3YmE4Y2JkN2YxMGI5MWNjMTU1YmI2ODA5OGRkZjUxYjk0NTg5ZiIsImZ5X2lkIjoiWU0wODkyNyIsImFwcFR5cGUiOjEwMCwicG9hX2ZsYWciOiJOIn0.kt93DHSNpAYMGLaic1E1V5Kbdwthco0gRO_aZV9IsCs'"
      ]
     },
     "execution_count": 20,
     "metadata": {},
     "output_type": "execute_result"
    }
   ],
   "source": [
    "symbol_access"
   ]
  },
  {
   "cell_type": "code",
   "execution_count": 21,
   "metadata": {},
   "outputs": [],
   "source": [
    "test = Symbol('lalala',['NSE:SBIN-EQ','BSE:SBIN-A','NSE:TATAMOTORS-EQ'])"
   ]
  },
  {
   "cell_type": "code",
   "execution_count": 27,
   "metadata": {},
   "outputs": [
    {
     "ename": "TypeError",
     "evalue": "'int' object is not iterable",
     "output_type": "error",
     "traceback": [
      "\u001b[0;31m---------------------------------------------------------------------------\u001b[0m",
      "\u001b[0;31mTypeError\u001b[0m                                 Traceback (most recent call last)",
      "Cell \u001b[0;32mIn[27], line 1\u001b[0m\n\u001b[0;32m----> 1\u001b[0m test\u001b[38;5;241m.\u001b[39msave_files(message\u001b[38;5;241m=\u001b[39m{\u001b[38;5;124m'\u001b[39m\u001b[38;5;124mltp\u001b[39m\u001b[38;5;124m'\u001b[39m: \u001b[38;5;241m846.4\u001b[39m, \u001b[38;5;124m'\u001b[39m\u001b[38;5;124mvol_traded_today\u001b[39m\u001b[38;5;124m'\u001b[39m: \u001b[38;5;241m193721\u001b[39m, \u001b[38;5;124m'\u001b[39m\u001b[38;5;124mlast_traded_time\u001b[39m\u001b[38;5;124m'\u001b[39m: \u001b[38;5;241m1720588528\u001b[39m, \u001b[38;5;124m'\u001b[39m\u001b[38;5;124mexch_feed_time\u001b[39m\u001b[38;5;124m'\u001b[39m: \u001b[38;5;241m1720588531\u001b[39m, \u001b[38;5;124m'\u001b[39m\u001b[38;5;124mbid_size\u001b[39m\u001b[38;5;124m'\u001b[39m: \u001b[38;5;241m1\u001b[39m, \u001b[38;5;124m'\u001b[39m\u001b[38;5;124mask_size\u001b[39m\u001b[38;5;124m'\u001b[39m: \u001b[38;5;241m216\u001b[39m, \u001b[38;5;124m'\u001b[39m\u001b[38;5;124mbid_price\u001b[39m\u001b[38;5;124m'\u001b[39m: \u001b[38;5;241m846.0\u001b[39m, \u001b[38;5;124m'\u001b[39m\u001b[38;5;124mask_price\u001b[39m\u001b[38;5;124m'\u001b[39m: \u001b[38;5;241m846.4\u001b[39m, \u001b[38;5;124m'\u001b[39m\u001b[38;5;124mlast_traded_qty\u001b[39m\u001b[38;5;124m'\u001b[39m: \u001b[38;5;241m3\u001b[39m, \u001b[38;5;124m'\u001b[39m\u001b[38;5;124mtot_buy_qty\u001b[39m\u001b[38;5;124m'\u001b[39m: \u001b[38;5;241m117752\u001b[39m, \u001b[38;5;124m'\u001b[39m\u001b[38;5;124mtot_sell_qty\u001b[39m\u001b[38;5;124m'\u001b[39m: \u001b[38;5;241m164141\u001b[39m, \u001b[38;5;124m'\u001b[39m\u001b[38;5;124mavg_trade_price\u001b[39m\u001b[38;5;124m'\u001b[39m: \u001b[38;5;241m851.01\u001b[39m, \u001b[38;5;124m'\u001b[39m\u001b[38;5;124mlow_price\u001b[39m\u001b[38;5;124m'\u001b[39m: \u001b[38;5;241m843.3\u001b[39m, \u001b[38;5;124m'\u001b[39m\u001b[38;5;124mhigh_price\u001b[39m\u001b[38;5;124m'\u001b[39m: \u001b[38;5;241m861.0\u001b[39m, \u001b[38;5;124m'\u001b[39m\u001b[38;5;124mlower_ckt\u001b[39m\u001b[38;5;124m'\u001b[39m: \u001b[38;5;241m0\u001b[39m, \u001b[38;5;124m'\u001b[39m\u001b[38;5;124mupper_ckt\u001b[39m\u001b[38;5;124m'\u001b[39m: \u001b[38;5;241m0\u001b[39m, \u001b[38;5;124m'\u001b[39m\u001b[38;5;124mopen_price\u001b[39m\u001b[38;5;124m'\u001b[39m: \u001b[38;5;241m861.0\u001b[39m, \u001b[38;5;124m'\u001b[39m\u001b[38;5;124mprev_close_price\u001b[39m\u001b[38;5;124m'\u001b[39m: \u001b[38;5;241m860.95\u001b[39m, \u001b[38;5;124m'\u001b[39m\u001b[38;5;124mtype\u001b[39m\u001b[38;5;124m'\u001b[39m: \u001b[38;5;241m1\u001b[39m, \u001b[38;5;124m'\u001b[39m\u001b[38;5;124msymbol\u001b[39m\u001b[38;5;124m'\u001b[39m: \u001b[38;5;241m1\u001b[39m, \u001b[38;5;124m'\u001b[39m\u001b[38;5;124mch\u001b[39m\u001b[38;5;124m'\u001b[39m: \u001b[38;5;241m-\u001b[39m\u001b[38;5;241m14.55\u001b[39m, \u001b[38;5;124m'\u001b[39m\u001b[38;5;124mchp\u001b[39m\u001b[38;5;124m'\u001b[39m: \u001b[38;5;241m-\u001b[39m\u001b[38;5;241m1.69\u001b[39m}\n\u001b[1;32m      2\u001b[0m )\n",
      "File \u001b[0;32m~/programming/STONKS/ARBRITRAGE/Data_retreival/data.py:87\u001b[0m, in \u001b[0;36m_Data.save_files\u001b[0;34m(self, message)\u001b[0m\n\u001b[1;32m     84\u001b[0m     \u001b[38;5;28;01mreturn\u001b[39;00m\n\u001b[1;32m     86\u001b[0m \u001b[38;5;28;01mdel\u001b[39;00m message[\u001b[38;5;124m'\u001b[39m\u001b[38;5;124mtype\u001b[39m\u001b[38;5;124m'\u001b[39m] \u001b[38;5;66;03m# we don't need it\u001b[39;00m\n\u001b[0;32m---> 87\u001b[0m file_symbol \u001b[38;5;241m=\u001b[39m \u001b[38;5;124m'\u001b[39m\u001b[38;5;124m'\u001b[39m\u001b[38;5;241m.\u001b[39mjoin([\u001b[38;5;124m'\u001b[39m\u001b[38;5;124m-\u001b[39m\u001b[38;5;124m'\u001b[39m \u001b[38;5;28;01mif\u001b[39;00m x \u001b[38;5;241m==\u001b[39m \u001b[38;5;124m\"\u001b[39m\u001b[38;5;124m:\u001b[39m\u001b[38;5;124m\"\u001b[39m \u001b[38;5;28;01melse\u001b[39;00m x \u001b[38;5;28;01mfor\u001b[39;00m x \u001b[38;5;129;01min\u001b[39;00m message\u001b[38;5;241m.\u001b[39mpop(\u001b[38;5;124m'\u001b[39m\u001b[38;5;124msymbol\u001b[39m\u001b[38;5;124m'\u001b[39m)])\n\u001b[1;32m     88\u001b[0m file_path \u001b[38;5;241m=\u001b[39m \u001b[38;5;124mf\u001b[39m\u001b[38;5;124m'\u001b[39m\u001b[38;5;132;01m{\u001b[39;00m\u001b[38;5;28mself\u001b[39m\u001b[38;5;241m.\u001b[39mdir\u001b[38;5;132;01m}\u001b[39;00m\u001b[38;5;124m/\u001b[39m\u001b[38;5;132;01m{\u001b[39;00mfile_symbol\u001b[38;5;132;01m}\u001b[39;00m\u001b[38;5;124m/\u001b[39m\u001b[38;5;132;01m{\u001b[39;00m\u001b[38;5;28mself\u001b[39m\u001b[38;5;241m.\u001b[39mdata_type[:\u001b[38;5;241m4\u001b[39m]\u001b[38;5;132;01m}\u001b[39;00m\u001b[38;5;124m-\u001b[39m\u001b[38;5;132;01m{\u001b[39;00m\u001b[38;5;28mself\u001b[39m\u001b[38;5;241m.\u001b[39mindia_date\u001b[38;5;132;01m}\u001b[39;00m\u001b[38;5;124m.csv\u001b[39m\u001b[38;5;124m'\u001b[39m\n\u001b[1;32m     91\u001b[0m \u001b[38;5;28;01mwith\u001b[39;00m \u001b[38;5;28mopen\u001b[39m(file_path,\u001b[38;5;124m'\u001b[39m\u001b[38;5;124ma+\u001b[39m\u001b[38;5;124m'\u001b[39m) \u001b[38;5;28;01mas\u001b[39;00m f:\n",
      "\u001b[0;31mTypeError\u001b[0m: 'int' object is not iterable"
     ]
    }
   ],
   "source": [
    "test.save_files(message={'ltp': 846.4, 'vol_traded_today': 193721, 'last_traded_time': 1720588528, 'exch_feed_time': 1720588531, 'bid_size': 1, 'ask_size': 216, 'bid_price': 846.0, 'ask_price': 846.4, 'last_traded_qty': 3, 'tot_buy_qty': 117752, 'tot_sell_qty': 164141, 'avg_trade_price': 851.01, 'low_price': 843.3, 'high_price': 861.0, 'lower_ckt': 0, 'upper_ckt': 0, 'open_price': 861.0, 'prev_close_price': 860.95, 'type': 1, 'symbol': 1, 'ch': -14.55, 'chp': -1.69}\n",
    ")"
   ]
  },
  {
   "cell_type": "code",
   "execution_count": 4,
   "metadata": {},
   "outputs": [],
   "source": [
    "response = Initial(client_id=client_id2,secret_key=secret_key2,redirect_uri=redirect_uri2,).get_response()"
   ]
  },
  {
   "cell_type": "code",
   "execution_count": 5,
   "metadata": {},
   "outputs": [
    {
     "data": {
      "text/plain": [
       "'https://api-t1.fyers.in/api/v3/generate-authcode?client_id=ED5OZI8YV6-100&redirect_uri=https%3A%2F%2Fwww.google.com%2F&response_type=code&state=None'"
      ]
     },
     "execution_count": 5,
     "metadata": {},
     "output_type": "execute_result"
    }
   ],
   "source": [
    "response"
   ]
  },
  {
   "cell_type": "code",
   "execution_count": null,
   "metadata": {},
   "outputs": [],
   "source": []
  }
 ],
 "metadata": {
  "kernelspec": {
   "display_name": "Python 3",
   "language": "python",
   "name": "python3"
  },
  "language_info": {
   "codemirror_mode": {
    "name": "ipython",
    "version": 3
   },
   "file_extension": ".py",
   "mimetype": "text/x-python",
   "name": "python",
   "nbconvert_exporter": "python",
   "pygments_lexer": "ipython3",
   "version": "3.12.4"
  }
 },
 "nbformat": 4,
 "nbformat_minor": 2
}
